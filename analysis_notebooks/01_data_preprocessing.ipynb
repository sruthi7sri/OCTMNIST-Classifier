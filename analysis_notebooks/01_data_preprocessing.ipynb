{
 "cells": [
  {
   "cell_type": "markdown",
   "id": "c652efb3-faf6-4075-aea0-a85130665007",
   "metadata": {},
   "source": [
    "# PyTorch Tensors"
   ]
  },
  {
   "cell_type": "code",
   "execution_count": 7,
   "id": "60ed6acf-26b9-4517-85d1-383a9b77002d",
   "metadata": {},
   "outputs": [
    {
     "name": "stdout",
     "output_type": "stream",
     "text": [
      "Requirement already satisfied: torch in /Users/sruthisriv/miniforge3/lib/python3.12/site-packages (2.6.0)\n",
      "Requirement already satisfied: torchvision in /Users/sruthisriv/miniforge3/lib/python3.12/site-packages (0.21.0)\n",
      "Requirement already satisfied: torchaudio in /Users/sruthisriv/miniforge3/lib/python3.12/site-packages (2.6.0)\n",
      "Requirement already satisfied: filelock in /Users/sruthisriv/miniforge3/lib/python3.12/site-packages (from torch) (3.17.0)\n",
      "Requirement already satisfied: typing-extensions>=4.10.0 in /Users/sruthisriv/miniforge3/lib/python3.12/site-packages (from torch) (4.12.2)\n",
      "Requirement already satisfied: networkx in /Users/sruthisriv/miniforge3/lib/python3.12/site-packages (from torch) (3.4.2)\n",
      "Requirement already satisfied: jinja2 in /Users/sruthisriv/miniforge3/lib/python3.12/site-packages (from torch) (3.1.5)\n",
      "Requirement already satisfied: fsspec in /Users/sruthisriv/miniforge3/lib/python3.12/site-packages (from torch) (2024.12.0)\n",
      "Requirement already satisfied: setuptools in /Users/sruthisriv/miniforge3/lib/python3.12/site-packages (from torch) (75.6.0)\n",
      "Requirement already satisfied: sympy==1.13.1 in /Users/sruthisriv/miniforge3/lib/python3.12/site-packages (from torch) (1.13.1)\n",
      "Requirement already satisfied: mpmath<1.4,>=1.1.0 in /Users/sruthisriv/miniforge3/lib/python3.12/site-packages (from sympy==1.13.1->torch) (1.3.0)\n",
      "Requirement already satisfied: numpy in /Users/sruthisriv/miniforge3/lib/python3.12/site-packages (from torchvision) (2.0.2)\n",
      "Requirement already satisfied: pillow!=8.3.*,>=5.3.0 in /Users/sruthisriv/miniforge3/lib/python3.12/site-packages (from torchvision) (11.1.0)\n",
      "Requirement already satisfied: MarkupSafe>=2.0 in /Users/sruthisriv/miniforge3/lib/python3.12/site-packages (from jinja2->torch) (3.0.2)\n",
      "Note: you may need to restart the kernel to use updated packages.\n"
     ]
    }
   ],
   "source": [
    "%pip install torch torchvision torchaudio"
   ]
  },
  {
   "cell_type": "code",
   "execution_count": 8,
   "id": "3ef705e9-f0b5-41fe-89b6-cba176e457c0",
   "metadata": {},
   "outputs": [],
   "source": [
    "import torch"
   ]
  },
  {
   "cell_type": "code",
   "execution_count": 9,
   "id": "314f6319-5d93-453d-9c5d-c58cea42cde6",
   "metadata": {},
   "outputs": [
    {
     "name": "stdout",
     "output_type": "stream",
     "text": [
      "tensor([[0., 0., 0.],\n",
      "        [0., 0., 0.],\n",
      "        [0., 0., 0.],\n",
      "        [0., 0., 0.],\n",
      "        [0., 0., 0.]])\n",
      "torch.float32\n"
     ]
    }
   ],
   "source": [
    "#creating 2D tensor with 5 rows and 3 cols\n",
    "z = torch.zeros(5,3)\n",
    "print(z)\n",
    "print(z.dtype)"
   ]
  },
  {
   "cell_type": "code",
   "execution_count": 10,
   "id": "c777e897-3361-435a-a1d7-5a4aabdc14a9",
   "metadata": {},
   "outputs": [
    {
     "name": "stdout",
     "output_type": "stream",
     "text": [
      "tensor([[1, 1, 1],\n",
      "        [1, 1, 1],\n",
      "        [1, 1, 1],\n",
      "        [1, 1, 1],\n",
      "        [1, 1, 1]], dtype=torch.int16)\n"
     ]
    }
   ],
   "source": [
    "z = torch.ones((5,3), dtype = torch.int16)\n",
    "print(z)"
   ]
  },
  {
   "cell_type": "code",
   "execution_count": 11,
   "id": "4644e579-f4c2-49fe-9a83-888135e6112c",
   "metadata": {},
   "outputs": [
    {
     "name": "stdout",
     "output_type": "stream",
     "text": [
      "A random tensor\n",
      "tensor([[0.3126, 0.3791],\n",
      "        [0.3087, 0.0736],\n",
      "        [0.4216, 0.0691]])\n",
      "\n",
      " Another different random tensor\n",
      "tensor([[0.2332, 0.4047],\n",
      "        [0.2162, 0.9927],\n",
      "        [0.4128, 0.5938]])\n",
      "\n",
      " Should match r1: \n",
      "tensor([[0.3126, 0.3791],\n",
      "        [0.3087, 0.0736],\n",
      "        [0.4216, 0.0691]])\n"
     ]
    }
   ],
   "source": [
    "torch.manual_seed(1729)\n",
    "r1 = torch.rand(3,2)\n",
    "print(\"A random tensor\")\n",
    "print(r1)\n",
    "\n",
    "r2 = torch.rand(3,2)\n",
    "print(\"\\n Another different random tensor\")\n",
    "print(r2)\n",
    "\n",
    "torch.manual_seed(1729)\n",
    "r3 = torch.rand(3,2)\n",
    "print(\"\\n Should match r1: \")\n",
    "print(r3)"
   ]
  },
  {
   "cell_type": "code",
   "execution_count": 12,
   "id": "12497214-dc7c-4c03-9b14-1300f50f0d34",
   "metadata": {},
   "outputs": [
    {
     "name": "stdout",
     "output_type": "stream",
     "text": [
      "tensor([[1., 1., 1.],\n",
      "        [1., 1., 1.]])\n",
      "tensor([[2., 2., 2.],\n",
      "        [2., 2., 2.]])\n",
      "tensor([[3., 3., 3.],\n",
      "        [3., 3., 3.]])\n",
      "torch.Size([2, 3])\n"
     ]
    },
    {
     "ename": "RuntimeError",
     "evalue": "The size of tensor a (3) must match the size of tensor b (2) at non-singleton dimension 1",
     "output_type": "error",
     "traceback": [
      "\u001b[0;31m---------------------------------------------------------------------------\u001b[0m",
      "\u001b[0;31mRuntimeError\u001b[0m                              Traceback (most recent call last)",
      "Cell \u001b[0;32mIn[12], line 13\u001b[0m\n\u001b[1;32m     11\u001b[0m r1 \u001b[38;5;241m=\u001b[39m torch\u001b[38;5;241m.\u001b[39mrand(\u001b[38;5;241m2\u001b[39m,\u001b[38;5;241m3\u001b[39m)\n\u001b[1;32m     12\u001b[0m r2 \u001b[38;5;241m=\u001b[39m torch\u001b[38;5;241m.\u001b[39mrand(\u001b[38;5;241m3\u001b[39m,\u001b[38;5;241m2\u001b[39m)\n\u001b[0;32m---> 13\u001b[0m r3 \u001b[38;5;241m=\u001b[39m \u001b[43mr1\u001b[49m\u001b[43m \u001b[49m\u001b[38;5;241;43m+\u001b[39;49m\u001b[43m \u001b[49m\u001b[43mr2\u001b[49m\n",
      "\u001b[0;31mRuntimeError\u001b[0m: The size of tensor a (3) must match the size of tensor b (2) at non-singleton dimension 1"
     ]
    }
   ],
   "source": [
    "ones = torch.ones(2,3)\n",
    "print(ones)\n",
    "\n",
    "twos = torch.ones(2,3)*2\n",
    "print(twos)\n",
    "\n",
    "threes = ones+twos\n",
    "print(threes)\n",
    "print(threes.shape)\n",
    "\n",
    "r1 = torch.rand(2,3)\n",
    "r2 = torch.rand(3,2)\n",
    "r3 = r1 + r2"
   ]
  },
  {
   "cell_type": "code",
   "execution_count": 13,
   "id": "608c3267-705d-4f6a-89c6-5d188541d481",
   "metadata": {},
   "outputs": [
    {
     "name": "stdout",
     "output_type": "stream",
     "text": [
      "A random matrix, r:\n",
      "tensor([[-0.3071, -0.8297],\n",
      "        [-0.8616, -0.5241]])\n",
      "\n",
      "Abs val of r\n",
      "tensor([[0.3071, 0.8297],\n",
      "        [0.8616, 0.5241]])\n",
      "\n",
      "Inverse Sine\n",
      "tensor([[-0.3122, -0.9785],\n",
      "        [-1.0383, -0.5516]])\n",
      "\n",
      "Determinant\n",
      "tensor(-0.5538)\n",
      "\n",
      "SVD\n",
      "torch.return_types.svd(\n",
      "U=tensor([[-0.6461, -0.7633],\n",
      "        [-0.7633,  0.6461]]),\n",
      "S=tensor([1.2684, 0.4366]),\n",
      "V=tensor([[ 0.6749, -0.7379],\n",
      "        [ 0.7379,  0.6749]]))\n",
      "\n",
      "avg and SD\n",
      "(tensor(0.2639), tensor(-0.6306))\n",
      "\n",
      "Max val\n",
      "tensor(-0.3071)\n"
     ]
    }
   ],
   "source": [
    "r = torch.rand(2,2) - 0.5*2\n",
    "print(\"A random matrix, r:\")\n",
    "print(r)\n",
    "\n",
    "# common math ops\n",
    "print(\"\\nAbs val of r\")\n",
    "print(torch.abs(r))\n",
    "\n",
    "#trigo fns\n",
    "print(\"\\nInverse Sine\")\n",
    "print(torch.asin(r))\n",
    "\n",
    "#lin alg - determinant and SVD\n",
    "print(\"\\nDeterminant\")\n",
    "print(torch.det(r))\n",
    "print(\"\\nSVD\")\n",
    "print(torch.svd(r))\n",
    "\n",
    "#statistical and aggregate operations\n",
    "print(\"\\navg and SD\")\n",
    "print(torch.std_mean(r))\n",
    "print(\"\\nMax val\")\n",
    "print(torch.max(r))"
   ]
  },
  {
   "cell_type": "markdown",
   "id": "93e63bbc-9076-4576-a97b-eadc0712b529",
   "metadata": {},
   "source": [
    "# A simple Pytorch Model"
   ]
  },
  {
   "cell_type": "code",
   "execution_count": 14,
   "id": "98853a74-b74d-4239-8dee-6d95bb9fd973",
   "metadata": {},
   "outputs": [],
   "source": [
    "import torch                     # for all things PyTorch\n",
    "import torch.nn as nn            # for torch.nn.Module, the parent object for PyTorch models\n",
    "import torch.nn.functional as F  # for the activation function"
   ]
  },
  {
   "cell_type": "code",
   "execution_count": 15,
   "id": "07ec78a6-c07d-4ca2-9883-2f51c9784b3a",
   "metadata": {},
   "outputs": [],
   "source": [
    "class LeNet(nn.Module):\n",
    "    def __init__(self):\n",
    "        super(LeNet, self).__init__()\n",
    "        # 3 input image channels (RGB), 8 output channels, 5x5 convolution kernel\n",
    "        self.conv1 = nn.Conv2d(3, 8, 5)\n",
    "        self.conv2 = nn.Conv2d(8, 32, 5)\n",
    "        \n",
    "        # Adjusting dimensions according to new conv layers\n",
    "        self.fc1 = nn.Linear(32 * 5 * 5, 150)  # Adjusted fully connected layer\n",
    "        self.fc2 = nn.Linear(150, 100)\n",
    "        self.fc3 = nn.Linear(100, 5)  # Final output classes changed to 5\n",
    "\n",
    "    def forward(self, x):\n",
    "        x = F.max_pool2d(F.relu(self.conv1(x)), (2, 2))\n",
    "        x = F.max_pool2d(F.relu(self.conv2(x)), 2)\n",
    "        x = x.view(-1, self.num_flat_features(x))\n",
    "        x = F.relu(self.fc1(x))\n",
    "        x = F.relu(self.fc2(x))\n",
    "        x = self.fc3(x)  # Final output layer\n",
    "        return x\n",
    "\n",
    "    def num_flat_features(self, x):\n",
    "        size = x.size()[1:]  # Exclude batch dimension\n",
    "        num_features = 1\n",
    "        for s in size:\n",
    "            num_features *= s\n",
    "        return num_features"
   ]
  },
  {
   "cell_type": "code",
   "execution_count": 16,
   "id": "ec17517d-6429-4343-b0dd-6ccd5b60cb2f",
   "metadata": {},
   "outputs": [
    {
     "name": "stdout",
     "output_type": "stream",
     "text": [
      "LeNet(\n",
      "  (conv1): Conv2d(3, 8, kernel_size=(5, 5), stride=(1, 1))\n",
      "  (conv2): Conv2d(8, 32, kernel_size=(5, 5), stride=(1, 1))\n",
      "  (fc1): Linear(in_features=800, out_features=150, bias=True)\n",
      "  (fc2): Linear(in_features=150, out_features=100, bias=True)\n",
      "  (fc3): Linear(in_features=100, out_features=5, bias=True)\n",
      ")\n",
      "\n",
      "Image batch shape:\n",
      "torch.Size([1, 3, 32, 32])\n",
      "\n",
      "Raw output:\n",
      "tensor([[-0.0937,  0.0764, -0.0106,  0.0869,  0.0138]],\n",
      "       grad_fn=<AddmmBackward0>)\n"
     ]
    }
   ],
   "source": [
    "net = LeNet()\n",
    "print(net)\n",
    "\n",
    "# Create an input tensor for a batch of 1 RGB image (3 channels, 32x32)\n",
    "input = torch.rand(1, 3, 32, 32)   \n",
    "print('\\nImage batch shape:')\n",
    "print(input.shape)\n",
    "\n",
    "# Pass the input through the network\n",
    "output = net(input)\n",
    "print('\\nRaw output:')\n",
    "print(output)"
   ]
  },
  {
   "cell_type": "code",
   "execution_count": null,
   "id": "51a59227-0812-4b26-9f61-8d8235f3a444",
   "metadata": {},
   "outputs": [],
   "source": [
    "torch.save(net.state_dict(), \"A_Simple_PyTorch_Model_LeNet_model_weights.pth\")\n",
    "print(\"LeNet model weights saved successfully!\")\n"
   ]
  },
  {
   "cell_type": "markdown",
   "id": "71cd5ea7-21c9-4a4b-b3fc-c58d0eadf311",
   "metadata": {},
   "source": [
    "# Dataset and DataLoader"
   ]
  },
  {
   "cell_type": "code",
   "execution_count": 17,
   "id": "a47ba0f7-5ffb-413f-b81a-0337b02e3fc6",
   "metadata": {},
   "outputs": [],
   "source": [
    "import torch\n",
    "import torchvision\n",
    "import torchvision.transforms as transforms\n",
    "import matplotlib.pyplot as plt\n",
    "import numpy as np"
   ]
  },
  {
   "cell_type": "code",
   "execution_count": 18,
   "id": "b333557d-25f9-4982-9b6d-8d40e80f1c47",
   "metadata": {},
   "outputs": [],
   "source": [
    "transform = transforms.Compose([\n",
    "    transforms.ToTensor(),\n",
    "    transforms.Normalize((0.5,), (0.5,))  # Grayscale images have one channel\n",
    "])"
   ]
  },
  {
   "cell_type": "code",
   "execution_count": 19,
   "id": "488b8ba4-d94d-41a4-b34e-2e4e5edea5ee",
   "metadata": {},
   "outputs": [],
   "source": [
    "trainset = torchvision.datasets.FashionMNIST(root='./data', train=True,\n",
    "                                             download=True, transform=transform)"
   ]
  },
  {
   "cell_type": "code",
   "execution_count": 20,
   "id": "e4f1cdff-c824-4c70-a3ec-9efeae776771",
   "metadata": {},
   "outputs": [],
   "source": [
    "trainloader = torch.utils.data.DataLoader(trainset, batch_size=8,\n",
    "                                          shuffle=True, num_workers=4)"
   ]
  },
  {
   "cell_type": "code",
   "execution_count": 21,
   "id": "06d0cf59-76ee-41b0-8a8d-83b7e3e6a79a",
   "metadata": {},
   "outputs": [
    {
     "data": {
      "image/png": "[encoded data removed]",
      "text/plain": [
       "<Figure size 640x480 with 1 Axes>"
      ]
     },
     "metadata": {},
     "output_type": "display_data"
    },
    {
     "name": "stdout",
     "output_type": "stream",
     "text": [
      "  Pullover T-shirt/top      Dress        Bag   Pullover T-shirt/top       Coat Ankle boot\n"
     ]
    }
   ],
   "source": [
    "classes = ('T-shirt/top', 'Trouser', 'Pullover', 'Dress', 'Coat',\n",
    "           'Sandal', 'Shirt', 'Sneaker', 'Bag', 'Ankle boot')\n",
    "\n",
    "def imshow(img):\n",
    "    img = img * 0.5 + 0.5  # Unnormalize\n",
    "    npimg = img.numpy()\n",
    "    plt.imshow(np.transpose(npimg, (1, 2, 0)), cmap='gray')  # Convert to grayscale\n",
    "    plt.axis('off')  # Remove axes for better visualization\n",
    "    plt.show()\n",
    "\n",
    "# Get a batch of training data\n",
    "dataiter = iter(trainloader)\n",
    "images, labels = next(dataiter)\n",
    "\n",
    "# Show images\n",
    "imshow(torchvision.utils.make_grid(images))\n",
    "# Print corresponding labels\n",
    "print(' '.join('%10s' % classes[labels[j]] for j in range(8)))"
   ]
  },
  {
   "cell_type": "markdown",
   "id": "1208e1b0-9d20-4334-a2ef-b889e013fadb",
   "metadata": {},
   "source": [
    "# A simple pyTorch Training Loop"
   ]
  },
  {
   "cell_type": "code",
   "execution_count": 22,
   "id": "63f30319-61f5-4abb-809a-33c8ca511a0d",
   "metadata": {},
   "outputs": [],
   "source": [
    "%matplotlib inline\n",
    "\n",
    "import torch\n",
    "import torch.nn as nn\n",
    "import torch.nn.functional as F\n",
    "import torch.optim as optim\n",
    "\n",
    "import torchvision\n",
    "import torchvision.transforms as transforms\n",
    "\n",
    "import matplotlib\n",
    "import matplotlib.pyplot as plt\n",
    "import numpy as np"
   ]
  },
  {
   "cell_type": "code",
   "execution_count": 23,
   "id": "6d8aa64c-1c86-4098-8bf8-33e6738153a0",
   "metadata": {},
   "outputs": [],
   "source": [
    "# Define transformations\n",
    "transform = transforms.Compose([\n",
    "    transforms.ToTensor(),\n",
    "    transforms.Normalize((0.5,), (0.5,))  # Adjusted for grayscale images\n",
    "])\n",
    "\n",
    "# Load the FashionMNIST dataset\n",
    "trainset = torchvision.datasets.FashionMNIST(root='./data', train=True,\n",
    "                                             download=True, transform=transform)\n",
    "trainloader = torch.utils.data.DataLoader(trainset, batch_size=8,\n",
    "                                          shuffle=True, num_workers=4)\n",
    "\n",
    "testset = torchvision.datasets.FashionMNIST(root='./data', train=False,\n",
    "                                            download=True, transform=transform)\n",
    "testloader = torch.utils.data.DataLoader(testset, batch_size=8,\n",
    "                                         shuffle=False, num_workers=4)\n",
    "\n",
    "# Define class labels for FashionMNIST\n",
    "classes = ('T-shirt/top', 'Trouser', 'Pullover', 'Dress', 'Coat',\n",
    "           'Sandal', 'Shirt', 'Sneaker', 'Bag', 'Ankle boot')\n"
   ]
  },
  {
   "cell_type": "code",
   "execution_count": 24,
   "id": "3dab281c-2823-45b9-9d0d-fb8e3afc2f4b",
   "metadata": {},
   "outputs": [
    {
     "data": {
      "image/png": "[encoded data removed]",
      "text/plain": [
       "<Figure size 640x480 with 1 Axes>"
      ]
     },
     "metadata": {},
     "output_type": "display_data"
    },
    {
     "name": "stdout",
     "output_type": "stream",
     "text": [
      "T-shirt/top       Coat    Trouser      Dress    Trouser        Bag T-shirt/top      Dress\n"
     ]
    }
   ],
   "source": [
    "# Function to visualize images\n",
    "def imshow(img):\n",
    "    img = img * 0.5 + 0.5  # Unnormalize\n",
    "    npimg = img.numpy()\n",
    "    plt.imshow(np.transpose(npimg, (1, 2, 0)), cmap='gray')  # Convert to grayscale\n",
    "    plt.axis('off')\n",
    "    plt.show()\n",
    "\n",
    "# Get some random training images\n",
    "dataiter = iter(trainloader)\n",
    "images, labels = next(dataiter)\n",
    "\n",
    "# Show images\n",
    "imshow(torchvision.utils.make_grid(images))\n",
    "# Print labels\n",
    "print(' '.join('%10s' % classes[labels[j]] for j in range(8)))"
   ]
  },
  {
   "cell_type": "code",
   "execution_count": 25,
   "id": "47b9377e-693a-4887-a485-1c36a9e7b7bc",
   "metadata": {},
   "outputs": [],
   "source": [
    "# Define the CNN Model\n",
    "class Net(nn.Module):\n",
    "    def __init__(self):\n",
    "        super(Net, self).__init__()\n",
    "        self.conv1 = nn.Conv2d(1, 6, 5)  # 1 input channel for grayscale\n",
    "        self.pool = nn.MaxPool2d(2, 2)\n",
    "        self.conv2 = nn.Conv2d(6, 16, 5)\n",
    "        self.fc1 = nn.Linear(16 * 4 * 4, 120)  # Adjusted size after pooling\n",
    "        self.fc2 = nn.Linear(120, 84)\n",
    "        self.fc3 = nn.Linear(84, 10)  # 10 output classes\n",
    "\n",
    "    def forward(self, x):\n",
    "        x = self.pool(F.relu(self.conv1(x)))\n",
    "        x = self.pool(F.relu(self.conv2(x)))\n",
    "        x = x.view(-1, 16 * 4 * 4)  # Flatten tensor\n",
    "        x = F.relu(self.fc1(x))\n",
    "        x = F.relu(self.fc2(x))\n",
    "        x = self.fc3(x)\n",
    "        return x\n",
    "\n",
    "# Initialize network, loss function, and optimizer\n",
    "net = Net()\n",
    "criterion = nn.CrossEntropyLoss()\n",
    "optimizer = optim.Adam(net.parameters(), lr=0.001)  # Using Adam optimizer\n",
    "\n"
   ]
  },
  {
   "cell_type": "code",
   "execution_count": 26,
   "id": "5e636a5e-461c-47cb-a8ed-f2f7400e10d2",
   "metadata": {},
   "outputs": [
    {
     "name": "stdout",
     "output_type": "stream",
     "text": [
      "[1, 1000] loss: 0.820\n",
      "[1, 2000] loss: 0.566\n",
      "[1, 3000] loss: 0.495\n",
      "[1, 4000] loss: 0.454\n",
      "[1, 5000] loss: 0.412\n",
      "[1, 6000] loss: 0.392\n",
      "[1, 7000] loss: 0.397\n",
      "[2, 1000] loss: 0.355\n",
      "[2, 2000] loss: 0.348\n",
      "[2, 3000] loss: 0.341\n",
      "[2, 4000] loss: 0.336\n",
      "[2, 5000] loss: 0.351\n",
      "[2, 6000] loss: 0.342\n",
      "[2, 7000] loss: 0.334\n",
      "[3, 1000] loss: 0.323\n",
      "[3, 2000] loss: 0.303\n",
      "[3, 3000] loss: 0.295\n",
      "[3, 4000] loss: 0.310\n",
      "[3, 5000] loss: 0.318\n",
      "[3, 6000] loss: 0.280\n",
      "[3, 7000] loss: 0.299\n",
      "[4, 1000] loss: 0.276\n",
      "[4, 2000] loss: 0.278\n",
      "[4, 3000] loss: 0.277\n",
      "[4, 4000] loss: 0.286\n",
      "[4, 5000] loss: 0.279\n",
      "[4, 6000] loss: 0.272\n",
      "[4, 7000] loss: 0.279\n",
      "[5, 1000] loss: 0.252\n",
      "[5, 2000] loss: 0.261\n",
      "[5, 3000] loss: 0.254\n",
      "[5, 4000] loss: 0.278\n",
      "[5, 5000] loss: 0.275\n",
      "[5, 6000] loss: 0.258\n",
      "[5, 7000] loss: 0.270\n",
      "Finished Training\n"
     ]
    }
   ],
   "source": [
    "# Train the network\n",
    "num_epochs = 5\n",
    "for epoch in range(num_epochs):  \n",
    "    running_loss = 0.0\n",
    "    for i, data in enumerate(trainloader, 0):\n",
    "        inputs, labels = data\n",
    "        optimizer.zero_grad()\n",
    "        outputs = net(inputs)\n",
    "        loss = criterion(outputs, labels)\n",
    "        loss.backward()\n",
    "        optimizer.step()\n",
    "        running_loss += loss.item()\n",
    "        \n",
    "        if i % 1000 == 999:  # Print loss every 1000 mini-batches\n",
    "            print(f'[{epoch + 1}, {i + 1}] loss: {running_loss / 1000:.3f}')\n",
    "            running_loss = 0.0\n",
    "\n",
    "print('Finished Training')"
   ]
  },
  {
   "cell_type": "code",
   "execution_count": 27,
   "id": "73bc1416-4d75-44f7-a912-ba376fd5b3ac",
   "metadata": {},
   "outputs": [
    {
     "name": "stdout",
     "output_type": "stream",
     "text": [
      "Accuracy of the network on the 10000 test images: 88.46 %\n"
     ]
    }
   ],
   "source": [
    "\n",
    "# Evaluate model accuracy\n",
    "correct = 0\n",
    "total = 0\n",
    "with torch.no_grad():\n",
    "    for data in testloader:\n",
    "        images, labels = data\n",
    "        outputs = net(images)\n",
    "        _, predicted = torch.max(outputs.data, 1)\n",
    "        total += labels.size(0)\n",
    "        correct += (predicted == labels).sum().item()\n",
    "\n",
    "print(f'Accuracy of the network on the 10000 test images: {100 * correct / total:.2f} %')\n"
   ]
  },
  {
   "cell_type": "code",
   "execution_count": 28,
   "id": "ed6dff5e-473f-427f-a958-f6c822d90634",
   "metadata": {},
   "outputs": [
    {
     "ename": "NameError",
     "evalue": "name 'model' is not defined",
     "output_type": "error",
     "traceback": [
      "\u001b[0;31m---------------------------------------------------------------------------\u001b[0m",
      "\u001b[0;31mNameError\u001b[0m                                 Traceback (most recent call last)",
      "Cell \u001b[0;32mIn[28], line 2\u001b[0m\n\u001b[1;32m      1\u001b[0m \u001b[38;5;66;03m# Save the model weights\u001b[39;00m\n\u001b[0;32m----> 2\u001b[0m torch\u001b[38;5;241m.\u001b[39msave(\u001b[43mmodel\u001b[49m\u001b[38;5;241m.\u001b[39mstate_dict(), \u001b[38;5;124m\"\u001b[39m\u001b[38;5;124m1_Introduction_to_PyTorch_model_weights.pth\u001b[39m\u001b[38;5;124m\"\u001b[39m)\n\u001b[1;32m      3\u001b[0m \u001b[38;5;28mprint\u001b[39m(\u001b[38;5;124m\"\u001b[39m\u001b[38;5;124mModel weights saved successfully!\u001b[39m\u001b[38;5;124m\"\u001b[39m)\n",
      "\u001b[0;31mNameError\u001b[0m: name 'model' is not defined"
     ]
    }
   ],
   "source": [
    "# Save the model weights\n",
    "torch.save(net.state_dict(), \"1_Introduction_to_PyTorch_net_model_weights.pth\")\n",
    "print(\"Model weights saved successfully!\")"
   ]
  },
  {
   "cell_type": "markdown",
   "id": "a6edc8a4-827f-4abc-97c3-5ad7ec20e5ad",
   "metadata": {},
   "source": [
    "# Introduction to PyTorch Tensors"
   ]
  },
  {
   "cell_type": "code",
   "execution_count": null,
   "id": "04d6e61a-2759-4adb-b6b2-069ca14aa0df",
   "metadata": {},
   "outputs": [],
   "source": [
    "import torch\n",
    "import math"
   ]
  },
  {
   "cell_type": "code",
   "execution_count": null,
   "id": "950b0212-bd80-4e9b-bb82-84e2fc3c68b8",
   "metadata": {},
   "outputs": [],
   "source": [
    "x = torch.empty(3, 4)\n",
    "print(type(x))\n",
    "print(x)"
   ]
  },
  {
   "cell_type": "code",
   "execution_count": null,
   "id": "2038ba9c-8ee5-46bc-8753-de1b77793673",
   "metadata": {},
   "outputs": [],
   "source": [
    "zeros = torch.zeros(3, 4)\n",
    "print(\"Zeros Tensor:\\n\", zeros)\n",
    "\n",
    "ones = torch.ones(3, 4)\n",
    "print(\"\\nOnes Tensor:\\n\", ones)\n",
    "\n",
    "torch.manual_seed(2025)  \n",
    "random = torch.rand(3, 4) \n",
    "print(\"\\nRandom Tensor:\\n\", random)"
   ]
  },
  {
   "cell_type": "code",
   "execution_count": null,
   "id": "caed0abe-4235-4300-a7b3-3bfa1c255d9a",
   "metadata": {},
   "outputs": [],
   "source": [
    "torch.manual_seed(2025)\n",
    "random1 = torch.rand(3, 4)  \n",
    "print(\"Random Tensor 1:\\n\", random1)\n",
    "\n",
    "random2 = torch.rand(3, 4)\n",
    "print(\"\\nRandom Tensor 2:\\n\", random2)\n",
    "\n",
    "torch.manual_seed(2025)\n",
    "random3 = torch.rand(3, 4)\n",
    "print(\"\\nRandom Tensor 3 (after resetting seed):\\n\", random3)\n",
    "\n",
    "random4 = torch.rand(3, 4)\n",
    "print(\"\\nRandom Tensor 4:\\n\", random4)\n"
   ]
  },
  {
   "cell_type": "code",
   "execution_count": null,
   "id": "334457a8-d373-488c-a754-5f5cab1877db",
   "metadata": {},
   "outputs": [],
   "source": [
    "x = torch.empty(3, 3, 4)\n",
    "print(x.shape)\n",
    "print(x)\n",
    "\n",
    "empty_like_x = torch.empty_like(x)\n",
    "print(empty_like_x.shape)\n",
    "print(empty_like_x)\n",
    "\n",
    "zeros_like_x = torch.zeros_like(x)\n",
    "print(zeros_like_x.shape)\n",
    "print(zeros_like_x)\n",
    "\n",
    "ones_like_x = torch.ones_like(x)\n",
    "print(ones_like_x.shape)\n",
    "print(ones_like_x)\n",
    "\n",
    "rand_like_x = torch.rand_like(x)\n",
    "print(rand_like_x.shape)\n",
    "print(rand_like_x)"
   ]
  },
  {
   "cell_type": "code",
   "execution_count": null,
   "id": "3c136a24-fa08-4659-81ce-7b391e74b31b",
   "metadata": {},
   "outputs": [],
   "source": [
    "some_constants = torch.tensor([[1.41421, 2.30258], [0.57721, 3.14159]])  \n",
    "print(\"Some Constants:\\n\", some_constants)\n",
    "\n",
    "some_integers = torch.tensor((5, 11, 23, 29, 37, 41, 47, 53))\n",
    "print(\"\\nSome Integers (Primes):\\n\", some_integers)\n",
    "\n",
    "more_integers = torch.tensor(((1, 3, 5), [2, 4, 6]))\n",
    "print(\"\\nMore Integers:\\n\", more_integers)\n"
   ]
  },
  {
   "cell_type": "code",
   "execution_count": null,
   "id": "46da180b-a089-4ed6-b072-d8a831bea8ff",
   "metadata": {},
   "outputs": [],
   "source": [
    "a = torch.ones((3, 4), dtype=torch.int32)\n",
    "print(\"Tensor a (Ones, int32):\\n\", a)\n",
    "\n",
    "b = torch.rand((3, 4), dtype=torch.float32) * 50.0\n",
    "print(\"\\nTensor b (Random values scaled to 50, float32):\\n\", b)\n",
    "\n",
    "c = b.to(torch.int64)\n",
    "print(\"\\nTensor c (Converted to int64):\\n\", c)\n"
   ]
  },
  {
   "cell_type": "code",
   "execution_count": null,
   "id": "ed874776-2a7f-478c-a2a0-36e070b6ba69",
   "metadata": {},
   "outputs": [],
   "source": [
    "ones = torch.zeros(3, 3) + 3  \n",
    "twos = torch.ones(3, 3) * 4   \n",
    "threes = (torch.ones(3, 3) * 11 - 1) / 2  \n",
    "fours = twos ** 2  \n",
    "sqrt2s = twos ** 0.5  \n",
    "\n",
    "print(\"Ones (Filled with 3s):\\n\", ones)\n",
    "print(\"\\nTwos (Filled with 4s):\\n\", twos)\n",
    "print(\"\\nThrees (Filled with 5s):\\n\", threes)\n",
    "print(\"\\nFours (4^2 = 16):\\n\", fours)\n",
    "print(\"\\nSquare Root of Twos (sqrt(4) = 2):\\n\", sqrt2s)"
   ]
  },
  {
   "cell_type": "code",
   "execution_count": null,
   "id": "ab3788ba-2a87-4ff1-877b-a2daeb9cce88",
   "metadata": {},
   "outputs": [],
   "source": [
    "powers2 = twos ** torch.tensor([[2, 3, 4], [5, 6, 7], [8, 9, 10]])\n",
    "print(\"Powers of Twos:\\n\", powers2)\n",
    "\n",
    "fives = ones + fours  \n",
    "print(\"\\nFives (5 + 9):\\n\", fives)\n",
    "\n",
    "dozens = threes * fours  \n",
    "print(\"\\nDozens (6 * 9):\\n\", dozens)"
   ]
  },
  {
   "cell_type": "code",
   "execution_count": null,
   "id": "cc7097a7-4e8f-47a2-9972-ef2a9bbca32a",
   "metadata": {},
   "outputs": [],
   "source": [
    "a = torch.rand(3, 2)\n",
    "b = torch.rand(2, 3)\n",
    "\n",
    "print(a * b)"
   ]
  },
  {
   "cell_type": "code",
   "execution_count": null,
   "id": "38410808-ba02-4334-84f7-0ee4db6b9888",
   "metadata": {},
   "outputs": [],
   "source": [
    "rand = torch.rand(3, 5)\n",
    "doubled = rand * (torch.ones(1, 5) * 3)\n",
    "\n",
    "print(\"Random Tensor:\\n\", rand)\n",
    "print(\"\\nScaled Tensor (Multiplied by 3):\\n\", doubled)\n"
   ]
  },
  {
   "cell_type": "code",
   "execution_count": null,
   "id": "ab74ca44-3661-4210-900c-a78b71d18fe3",
   "metadata": {},
   "outputs": [],
   "source": [
    "a = torch.ones(5, 4, 3)\n",
    "b = a * torch.rand(4, 3)\n",
    "print(\"Tensor b (Broadcasted over dim 1):\\n\", b)\n",
    "c = a * torch.rand(4, 1)  \n",
    "print(\"\\nTensor c (Broadcasted over 3rd dim):\\n\", c)\n",
    "d = a * torch.rand(1, 3)  \n",
    "print(\"\\nTensor d (Broadcasted over 2nd dim):\\n\", d)\n"
   ]
  },
  {
   "cell_type": "code",
   "execution_count": null,
   "id": "9fe144c9-32b4-4f65-91fc-653ed2a3c332",
   "metadata": {},
   "outputs": [],
   "source": [
    "a =     torch.ones(4, 3, 2)\n",
    "\n",
    "b = a * torch.rand(4, 3)    # dimensions must match last-to-first\n",
    "\n",
    "c = a * torch.rand(   2, 3) # both 3rd & 2nd dims different\n",
    "\n",
    "d = a * torch.rand((0, ))   # can't broadcast with an empty tensor"
   ]
  },
  {
   "cell_type": "code",
   "execution_count": null,
   "id": "1a3cbd44-3a6a-4e3a-9a6b-9f3325a77347",
   "metadata": {},
   "outputs": [],
   "source": [
    "import torch\n",
    "import math\n",
    "\n",
    "a = torch.rand(3, 5) * 4 - 2  \n",
    "print('Common functions:')\n",
    "print(\"Absolute:\\n\", torch.abs(a))\n",
    "print(\"Ceil:\\n\", torch.ceil(a))\n",
    "print(\"Floor:\\n\", torch.floor(a))\n",
    "print(\"Clamped (-1 to 1):\\n\", torch.clamp(a, -1, 1))\n",
    "\n",
    "angles = torch.tensor([0, math.pi / 6, math.pi / 3, 2 * math.pi / 3])\n",
    "sines = torch.sin(angles)\n",
    "inverses = torch.asin(sines)\n",
    "print('\\nSine and arcsine:')\n",
    "print(\"Angles:\\n\", angles)\n",
    "print(\"Sine values:\\n\", sines)\n",
    "print(\"Inverse Sine (Arcsin):\\n\", inverses)\n",
    "\n",
    "print('\\nBitwise XOR:')\n",
    "b = torch.tensor([3, 12, 25])\n",
    "c = torch.tensor([5, 15, 30])\n",
    "print(torch.bitwise_xor(b, c))\n",
    "\n",
    "print('\\nBroadcasted, element-wise equality comparison:')\n",
    "d = torch.tensor([[1., 2., 3.], [4., 5., 6.]])\n",
    "e = torch.ones(1, 3)  \n",
    "print(torch.eq(d, e))  \n",
    "\n",
    "print('\\nReduction ops:')\n",
    "print(\"Max value:\\n\", torch.max(d))         \n",
    "print(\"Max value extracted:\\n\", torch.max(d).item())  \n",
    "print(\"Mean (average):\\n\", torch.mean(d))   \n",
    "print(\"Standard deviation:\\n\", torch.std(d)) \n",
    "print(\"Product of all elements:\\n\", torch.prod(d)) \n",
    "print(\"Unique elements:\\n\", torch.unique(torch.tensor([3, 3, 4, 4, 5, 6])))  \n",
    "\n",
    "v1 = torch.tensor([1., 2., 3.])  \n",
    "v2 = torch.tensor([4., 5., 6.])  \n",
    "m1 = torch.rand(3, 3)  \n",
    "m2 = torch.tensor([[2., 0., 0.], [0., 2., 0.], [0., 0., 2.]])  \n",
    "\n",
    "print('\\nVectors & Matrices:')\n",
    "print(\"Cross Product v1 x v2:\\n\", torch.cross(v1, v2))\n",
    "print(\"Random Matrix m1:\\n\", m1)\n",
    "m3 = torch.matmul(m1, m2)\n",
    "print(\"Matrix Multiplication (m1 * 2I):\\n\", m3)  \n",
    "print(\"SVD Decomposition of m3:\\n\", torch.svd(m3))  \n"
   ]
  },
  {
   "cell_type": "code",
   "execution_count": null,
   "id": "40a04b82-b6ad-4a1f-bc31-699afcca1fbe",
   "metadata": {},
   "outputs": [],
   "source": [
    "\n",
    "a = torch.tensor([0, math.pi / 6, math.pi / 3, 2 * math.pi / 3])\n",
    "print('a:')\n",
    "print(a)\n",
    "print(\"Sine of a (New Tensor):\\n\", torch.sin(a)) \n",
    "print(\"a remains unchanged:\\n\", a)  \n",
    "\n",
    "b = torch.tensor([0, math.pi / 6, math.pi / 3, 2 * math.pi / 3])\n",
    "print('\\nb:')\n",
    "print(b)\n",
    "print(\"Sine of b (In-place operation):\\n\", torch.sin_(b))  \n",
    "print(\"b after in-place operation:\\n\", b)  \n"
   ]
  },
  {
   "cell_type": "code",
   "execution_count": null,
   "id": "c7947a61-6511-417b-ba09-b1856fba12cc",
   "metadata": {},
   "outputs": [],
   "source": [
    "a = torch.ones(3, 3)  \n",
    "b = torch.rand(3, 3) * 5  \n",
    "\n",
    "print(\"Before:\")\n",
    "print(\"Tensor a:\\n\", a)\n",
    "print(\"Tensor b:\\n\", b)\n",
    "\n",
    "print(\"\\nAfter adding:\")\n",
    "print(a.add_(b)) \n",
    "print(\"Tensor a (modified):\\n\", a)\n",
    "print(\"Tensor b (unchanged by addition):\\n\", b)\n",
    "\n",
    "print(\"\\nAfter multiplying:\")\n",
    "print(b.mul_(b))  \n",
    "print(\"Tensor b (modified):\\n\", b)\n"
   ]
  },
  {
   "cell_type": "code",
   "execution_count": null,
   "id": "7baa81c3-0575-492d-bd20-e7c6625d5518",
   "metadata": {},
   "outputs": [],
   "source": [
    "a = torch.rand(3, 3) * 10 \n",
    "b = torch.rand(3, 3) * 5   \n",
    "c = torch.zeros(3, 3)      \n",
    "\n",
    "old_id = id(c)\n",
    "\n",
    "print(\"Initial Tensor c (zeros):\\n\", c)\n",
    "\n",
    "d = torch.matmul(a, b, out=c)\n",
    "print(\"\\nTensor c after matmul(a, b, out=c):\\n\", c)  \n",
    "\n",
    "assert c is d  \n",
    "assert id(c) == old_id  \n",
    "\n",
    "torch.rand(3, 3, out=c)  \n",
    "print(\"\\nTensor c after torch.rand(3, 3, out=c):\\n\", c)  \n",
    "\n",
    "assert id(c) == old_id  \n"
   ]
  },
  {
   "cell_type": "code",
   "execution_count": null,
   "id": "80c40b04-2a8c-4130-8179-168094431aee",
   "metadata": {},
   "outputs": [],
   "source": [
    "a = torch.ones(3, 3)\n",
    "b = a  \n",
    "\n",
    "a[1][2] = 999  \n",
    "\n",
    "print(\"Tensor a after modification:\\n\", a)\n",
    "print(\"\\nTensor b (shares memory with a, so it also changes):\\n\", b)"
   ]
  },
  {
   "cell_type": "code",
   "execution_count": null,
   "id": "e499b216-ab4f-41f9-a836-a57d67520486",
   "metadata": {},
   "outputs": [],
   "source": [
    "\n",
    "a = torch.ones(3, 3)\n",
    "b = a.clone()\n",
    "\n",
    "assert b is not a  \n",
    "print(\"Equality Check (Same Contents but Different Objects):\\n\", torch.eq(a, b))\n",
    "\n",
    "a[1][2] = 777  \n",
    "\n",
    "print(\"\\nTensor a after modification:\\n\", a)\n",
    "print(\"\\nTensor b (Remains Unchanged as an Independent Copy):\\n\", b)\n"
   ]
  },
  {
   "cell_type": "code",
   "execution_count": null,
   "id": "4b238e6e-0e9a-46d4-a171-b473726ac1e5",
   "metadata": {},
   "outputs": [],
   "source": [
    "a = torch.rand(3, 3, requires_grad=True) \n",
    "print(\"Tensor a (Original, requires_grad=True):\\n\", a)\n",
    "\n",
    "b = a.clone()\n",
    "print(\"\\nTensor b (Clone of a, still requires_grad=True):\\n\", b)\n",
    "\n",
    "c = a.detach().clone()\n",
    "print(\"\\nTensor c (Detached & Cloned, requires_grad=False):\\n\", c)\n",
    "\n",
    "print(\"\\nTensor a (After operations, remains unchanged):\\n\", a)"
   ]
  },
  {
   "cell_type": "code",
   "execution_count": null,
   "id": "bc968593-9e65-446c-8c32-0d043b043d9a",
   "metadata": {},
   "outputs": [],
   "source": [
    "if torch.cuda.is_available():\n",
    "    print('We have a GPU!')\n",
    "else:\n",
    "    print('Sorry, CPU only.')"
   ]
  },
  {
   "cell_type": "code",
   "execution_count": null,
   "id": "c5fa2453-d26e-4d6a-9c40-c13d3f7f84f6",
   "metadata": {},
   "outputs": [],
   "source": [
    "if torch.cuda.is_available():\n",
    "    gpu_rand = torch.rand(2, 2, device='cuda')\n",
    "    print(gpu_rand)\n",
    "else:\n",
    "    print('Sorry, CPU only.')"
   ]
  },
  {
   "cell_type": "code",
   "execution_count": null,
   "id": "8540e7df-ec0e-4580-9b2f-ec625e2de2cd",
   "metadata": {},
   "outputs": [],
   "source": [
    "if torch.cuda.is_available():\n",
    "    my_device = torch.device('cuda')\n",
    "else:\n",
    "    my_device = torch.device('cpu')\n",
    "print('Device: {}'.format(my_device))\n",
    "\n",
    "x = torch.rand(2, 2, device=my_device)\n",
    "print(x)"
   ]
  },
  {
   "cell_type": "code",
   "execution_count": null,
   "id": "2022adbd-1710-4dc5-96f1-f86b6ea65d3c",
   "metadata": {},
   "outputs": [],
   "source": [
    "y = torch.rand(3, 2)\n",
    "y = y.to(my_device)"
   ]
  },
  {
   "cell_type": "code",
   "execution_count": null,
   "id": "a97bb452-a3de-4f74-82b7-8dbaa38a6bad",
   "metadata": {},
   "outputs": [],
   "source": [
    "a = torch.rand(3, 128, 128)  \n",
    "b = a.unsqueeze(0)\n",
    "print(\"Shape of a (Before unsqueeze):\", a.shape)  \n",
    "print(\"Shape of b (After unsqueeze at dim=0):\", b.shape)  "
   ]
  },
  {
   "cell_type": "code",
   "execution_count": null,
   "id": "07a372e1-a32d-4674-bd27-a19ff2ae8cf1",
   "metadata": {},
   "outputs": [],
   "source": [
    "c = torch.rand(1, 1, 1, 1, 1)\n",
    "print(c)"
   ]
  },
  {
   "cell_type": "code",
   "execution_count": null,
   "id": "2a46f761-d708-4998-9cce-e1f5f099b988",
   "metadata": {},
   "outputs": [],
   "source": [
    "a = torch.rand(1, 15)  \n",
    "print(\"Shape of a (Before squeeze):\", a.shape)\n",
    "print(\"Tensor a:\\n\", a)\n",
    "\n",
    "b = a.squeeze(0)\n",
    "print(\"\\nShape of b (After squeeze):\", b.shape)  \n",
    "print(\"Tensor b:\\n\", b)\n",
    "\n",
    "c = torch.rand(3, 3)  \n",
    "print(\"\\nShape of c (Before squeeze):\", c.shape)\n",
    "\n",
    "d = c.squeeze(0)\n",
    "print(\"Shape of d (After squeeze, should be the same as c):\", d.shape)\n"
   ]
  },
  {
   "cell_type": "code",
   "execution_count": null,
   "id": "f7927745-7f18-4d27-baee-74bf56f48680",
   "metadata": {},
   "outputs": [],
   "source": [
    "a = torch.ones(5, 4, 3)\n",
    "b = torch.rand(4)  \n",
    "c = b.unsqueeze(1) \n",
    "print(\"Shape of c after unsqueeze:\\n\", c.shape)\n",
    "print(\"\\nResult of a * c:\\n\", a * c)\n"
   ]
  },
  {
   "cell_type": "code",
   "execution_count": null,
   "id": "b39b5ef3-96e5-41d1-aeaa-8cfeecea330c",
   "metadata": {},
   "outputs": [],
   "source": [
    "batch_me = torch.rand(3, 128, 128)\n",
    "print(\"Shape of batch_me (Before unsqueeze):\", batch_me.shape)\n",
    "\n",
    "batch_me.unsqueeze_(0)  \n",
    "print(\"Shape of batch_me (After unsqueeze at dim=0):\", batch_me.shape)\n"
   ]
  },
  {
   "cell_type": "code",
   "execution_count": null,
   "id": "550a612d-de8e-46f6-940d-c4bc315cc27d",
   "metadata": {},
   "outputs": [],
   "source": [
    "output3d = torch.rand(8, 15, 15)  \n",
    "print(\"Shape of output3d (Original 3D tensor):\", output3d.shape)\n",
    "\n",
    "input1d = output3d.reshape(8 * 15 * 15)\n",
    "print(\"Shape of input1d (After reshape to 1D):\", input1d.shape)\n",
    "\n",
    "print(\"Using torch.reshape:\", torch.reshape(output3d, (8 * 15 * 15,)).shape)"
   ]
  },
  {
   "cell_type": "code",
   "execution_count": null,
   "id": "683f6357-d842-4949-940e-c0b1b943849f",
   "metadata": {},
   "outputs": [],
   "source": [
    "import numpy as np\n",
    "\n",
    "numpy_array = np.ones((3, 4))\n",
    "print(\"NumPy Array:\\n\", numpy_array)\n",
    "\n",
    "pytorch_tensor = torch.from_numpy(numpy_array)\n",
    "print(\"\\nPyTorch Tensor (From NumPy Array):\\n\", pytorch_tensor)"
   ]
  },
  {
   "cell_type": "code",
   "execution_count": null,
   "id": "44c6f149-ded6-43ac-af30-e15f2d0db162",
   "metadata": {},
   "outputs": [],
   "source": [
    "pytorch_rand = torch.rand(3, 4)\n",
    "print(\"\\nPyTorch Random Tensor:\\n\", pytorch_rand)\n",
    "\n",
    "numpy_rand = pytorch_rand.numpy()\n",
    "print(\"\\nNumPy Array (From PyTorch Random Tensor):\\n\", numpy_rand)"
   ]
  },
  {
   "cell_type": "code",
   "execution_count": null,
   "id": "57193555-442c-49fb-b1bf-e791db4d7487",
   "metadata": {},
   "outputs": [],
   "source": [
    "numpy_array[2, 2] = 99\n",
    "print(\"\\nModified NumPy Array (Reflected in PyTorch Tensor):\\n\", pytorch_tensor)\n",
    "\n",
    "pytorch_rand[1, 3] = 42\n",
    "print(\"\\nModified PyTorch Tensor (Reflected in NumPy Array):\\n\", numpy_rand)\n"
   ]
  },
  {
   "cell_type": "markdown",
   "id": "b72adeec-3182-4bde-adb9-ecce867d5fc3",
   "metadata": {},
   "source": [
    "# Autograd"
   ]
  },
  {
   "cell_type": "code",
   "execution_count": null,
   "id": "b5d2fbe0-9135-4c4c-805b-f8742a780081",
   "metadata": {},
   "outputs": [],
   "source": [
    "%matplotlib inline"
   ]
  },
  {
   "cell_type": "code",
   "execution_count": null,
   "id": "a0b6b493-b4b8-4567-8a67-770f4d311c52",
   "metadata": {},
   "outputs": [],
   "source": [
    "import torch\n",
    "\n",
    "import matplotlib.pyplot as plt\n",
    "import matplotlib.ticker as ticker\n",
    "import math"
   ]
  },
  {
   "cell_type": "code",
   "execution_count": null,
   "id": "e1b5c11a-ed2d-4678-bbac-c163cff27c86",
   "metadata": {},
   "outputs": [],
   "source": [
    "a = torch.linspace(0., 2. * math.pi, steps=25, requires_grad=True)\n",
    "print(a)"
   ]
  },
  {
   "cell_type": "code",
   "execution_count": null,
   "id": "5b4434b0-c886-448f-837e-35e742ffbf66",
   "metadata": {},
   "outputs": [],
   "source": [
    "b = torch.sin(a)\n",
    "plt.plot(a.detach(), b.detach())"
   ]
  },
  {
   "cell_type": "code",
   "execution_count": null,
   "id": "66d561e5-2b07-43dd-83cb-81a7c4d5c8ec",
   "metadata": {},
   "outputs": [],
   "source": [
    "print(b)"
   ]
  },
  {
   "cell_type": "code",
   "execution_count": null,
   "id": "6f6d44ce-eb59-4094-ac76-994a4b913de3",
   "metadata": {},
   "outputs": [],
   "source": [
    "c = 3 * b\n",
    "print(c)\n",
    "\n",
    "d = c + 2\n",
    "print(d)"
   ]
  },
  {
   "cell_type": "code",
   "execution_count": null,
   "id": "78392b1b-eb74-4aa9-8f95-562dbded7438",
   "metadata": {},
   "outputs": [],
   "source": [
    "out = d.sum()\n",
    "print(out)"
   ]
  },
  {
   "cell_type": "code",
   "execution_count": null,
   "id": "c8b3818c-1f82-402e-967b-af57536c4724",
   "metadata": {},
   "outputs": [],
   "source": [
    "print('d:')\n",
    "print(d.grad_fn)\n",
    "print(d.grad_fn.next_functions)\n",
    "print(d.grad_fn.next_functions[0][0].next_functions)\n",
    "print(d.grad_fn.next_functions[0][0].next_functions[0][0].next_functions)\n",
    "print(d.grad_fn.next_functions[0][0].next_functions[0][0].next_functions[0][0].next_functions)\n",
    "print('\\nc:')\n",
    "print(c.grad_fn)\n",
    "print('\\nb:')\n",
    "print(b.grad_fn)\n",
    "print('\\na:')\n",
    "print(a.grad_fn)"
   ]
  },
  {
   "cell_type": "code",
   "execution_count": null,
   "id": "9ba7d7e9-02de-405d-bf23-a2299145ca6b",
   "metadata": {},
   "outputs": [],
   "source": [
    "out.backward()\n",
    "print(a.grad)\n",
    "plt.plot(a.detach(), a.grad.detach())"
   ]
  },
  {
   "cell_type": "code",
   "execution_count": null,
   "id": "9a0ba758-2523-42f9-82bf-83ae433cadba",
   "metadata": {},
   "outputs": [],
   "source": [
    "BATCH_SIZE = 16\n",
    "DIM_IN = 1000\n",
    "HIDDEN_SIZE = 100\n",
    "DIM_OUT = 10\n",
    "\n",
    "class TinyModel(torch.nn.Module):\n",
    "\n",
    "    def __init__(self):\n",
    "        super(TinyModel, self).__init__()\n",
    "        \n",
    "        self.layer1 = torch.nn.Linear(1000, 100)\n",
    "        self.relu = torch.nn.ReLU()\n",
    "        self.layer2 = torch.nn.Linear(100, 10)\n",
    "    \n",
    "    def forward(self, x):\n",
    "        x = self.layer1(x)\n",
    "        x = self.relu(x)\n",
    "        x = self.layer2(x)\n",
    "        return x\n",
    "    \n",
    "some_input = torch.randn(BATCH_SIZE, DIM_IN, requires_grad=False)\n",
    "ideal_output = torch.randn(BATCH_SIZE, DIM_OUT, requires_grad=False)\n",
    "\n",
    "model = TinyModel()"
   ]
  },
  {
   "cell_type": "code",
   "execution_count": null,
   "id": "1cfb68e8-0f73-4582-a024-98dccdbac8eb",
   "metadata": {},
   "outputs": [],
   "source": [
    "print(model.layer2.weight[0][0:10]) # just a small slice\n",
    "print(model.layer2.weight.grad)"
   ]
  },
  {
   "cell_type": "code",
   "execution_count": null,
   "id": "aab4a1d5-e8fd-49ef-aae4-d72a9ab3b704",
   "metadata": {},
   "outputs": [],
   "source": [
    "optimizer = torch.optim.SGD(model.parameters(), lr=0.001)\n",
    "\n",
    "prediction = model(some_input)\n",
    "\n",
    "loss = (ideal_output - prediction).pow(2).sum()\n",
    "print(loss)"
   ]
  },
  {
   "cell_type": "code",
   "execution_count": null,
   "id": "18b025ac-1a22-4c52-b453-dac0d88d2210",
   "metadata": {},
   "outputs": [],
   "source": [
    "loss.backward()\n",
    "print(model.layer2.weight[0][0:10])\n",
    "print(model.layer2.weight.grad[0][0:10])"
   ]
  },
  {
   "cell_type": "code",
   "execution_count": null,
   "id": "5799175d-592b-46ba-be52-8fffe4281557",
   "metadata": {},
   "outputs": [],
   "source": [
    "optimizer.step()\n",
    "print(model.layer2.weight[0][0:10])\n",
    "print(model.layer2.weight.grad[0][0:10])"
   ]
  },
  {
   "cell_type": "code",
   "execution_count": null,
   "id": "33b012d0-3f83-4af1-b07d-dde231ce6b46",
   "metadata": {},
   "outputs": [],
   "source": [
    "model.train()\n",
    "for i in range(0, 5):\n",
    "    prediction = model(some_input)\n",
    "    loss = (ideal_output - prediction).pow(2).sum()\n",
    "    loss.backward()\n",
    "    \n",
    "if model.layer2.weight.grad is not None:\n",
    "    print(f\"Gradients before zeroing:\\n{model.layer2.weight.grad[0][:10]}\")\n",
    "else:\n",
    "    print(\"Gradients are None. Ensure that loss.backward() has been called.\")\n",
    "\n",
    "optimizer.zero_grad()\n",
    "\n",
    "if model.layer2.weight.grad is not None:\n",
    "    print(f\"Gradients after zeroing:\\n{model.layer2.weight.grad[0][:10]}\")\n",
    "else:\n",
    "    print(\"Gradients are None after zeroing.\")"
   ]
  },
  {
   "cell_type": "code",
   "execution_count": null,
   "id": "5f037221-0ff7-4ac3-a575-34c8f8f9093c",
   "metadata": {},
   "outputs": [],
   "source": [
    "# Save the model weights\n",
    "torch.save(TinyModel.state_dict(), \"3_Fundamentals_of_Autograd_model_weights.pth\")\n",
    "print(\"Model weights saved successfully!\")"
   ]
  },
  {
   "cell_type": "code",
   "execution_count": null,
   "id": "e5dae222-3b00-47a0-bef4-6c9e77db5cf3",
   "metadata": {},
   "outputs": [],
   "source": [
    "a = torch.ones(2, 3, requires_grad=True)\n",
    "print(a)\n",
    "\n",
    "b1 = 2 * a\n",
    "print(b1)\n",
    "\n",
    "a.requires_grad = False\n",
    "b2 = 2 * a\n",
    "print(b2)"
   ]
  },
  {
   "cell_type": "code",
   "execution_count": null,
   "id": "f040a284-01f0-4cfa-b6cc-b00607c8839f",
   "metadata": {},
   "outputs": [],
   "source": [
    "a = torch.ones(2, 3, requires_grad=True) * 2\n",
    "b = torch.ones(2, 3, requires_grad=True) * 3\n",
    "\n",
    "c1 = a + b\n",
    "print(c1)\n",
    "\n",
    "with torch.no_grad():\n",
    "    c2 = a + b\n",
    "\n",
    "print(c2)\n",
    "\n",
    "c3 = a * b\n",
    "print(c3)"
   ]
  },
  {
   "cell_type": "code",
   "execution_count": null,
   "id": "0bd4ba5a-e014-4b2f-91e3-818705116820",
   "metadata": {},
   "outputs": [],
   "source": [
    "def add_tensors1(x, y):\n",
    "    return x + y\n",
    "\n",
    "@torch.no_grad()\n",
    "def add_tensors2(x, y):\n",
    "    return x + y\n",
    "\n",
    "\n",
    "a = torch.ones(2, 3, requires_grad=True) * 2\n",
    "b = torch.ones(2, 3, requires_grad=True) * 3\n",
    "\n",
    "c1 = add_tensors1(a, b)\n",
    "print(c1)\n",
    "\n",
    "c2 = add_tensors2(a, b)\n",
    "print(c2)"
   ]
  },
  {
   "cell_type": "code",
   "execution_count": null,
   "id": "c67ce4b9-23a7-4389-9806-b23b51a50da7",
   "metadata": {},
   "outputs": [],
   "source": [
    "x = torch.rand(5, requires_grad=True)\n",
    "y = x.detach()\n",
    "\n",
    "print(x)\n",
    "print(y)"
   ]
  },
  {
   "cell_type": "code",
   "execution_count": null,
   "id": "61b2415f-4e2a-4dd9-b838-8e9784473d82",
   "metadata": {},
   "outputs": [],
   "source": [
    "a = torch.linspace(0., 2. * math.pi, steps=25, requires_grad=True)\n",
    "torch.sin_(a)"
   ]
  },
  {
   "cell_type": "code",
   "execution_count": null,
   "id": "8bffc65c-3ff2-4ff1-83de-284aa89c966d",
   "metadata": {},
   "outputs": [],
   "source": [
    "device = torch.device('cpu')\n",
    "run_on_gpu = False\n",
    "if torch.cuda.is_available():\n",
    "    device = torch.device('cuda')\n",
    "    run_on_gpu = True\n",
    "    \n",
    "x = torch.randn(2, 3, requires_grad=True)\n",
    "y = torch.rand(2, 3, requires_grad=True)\n",
    "z = torch.ones(2, 3, requires_grad=True)\n",
    "\n",
    "with torch.autograd.profiler.profile(use_cuda=run_on_gpu) as prf:\n",
    "    for _ in range(1000):\n",
    "        z = (z / x) * y\n",
    "        \n",
    "print(prf.key_averages().table(sort_by='self_cpu_time_total'))"
   ]
  },
  {
   "cell_type": "code",
   "execution_count": null,
   "id": "d59cf88c-13a4-4735-b9e3-f53a79f876ce",
   "metadata": {},
   "outputs": [],
   "source": [
    "x = torch.randn(3, requires_grad=True)\n",
    "\n",
    "y = x * 2\n",
    "while y.data.norm() < 1000:\n",
    "    y = y * 2\n",
    "\n",
    "print(y)"
   ]
  },
  {
   "cell_type": "code",
   "execution_count": null,
   "id": "417637a0-c7a5-453a-b9ab-3bd50d433860",
   "metadata": {},
   "outputs": [],
   "source": [
    "v = torch.tensor([0.1, 1.0, 0.0001], dtype=torch.float) # stand-in for gradients\n",
    "y.backward(v)\n",
    "\n",
    "print(x.grad)"
   ]
  },
  {
   "cell_type": "code",
   "execution_count": null,
   "id": "3b7ec467-e8f7-4f04-8d4f-ef4a09eaec36",
   "metadata": {},
   "outputs": [],
   "source": [
    "def exp_adder(x, y):\n",
    "    return 2 * x.exp() + 3 * y\n",
    "\n",
    "inputs = (torch.rand(1), torch.rand(1)) # arguments for the function\n",
    "print(inputs)\n",
    "torch.autograd.functional.jacobian(exp_adder, inputs)"
   ]
  },
  {
   "cell_type": "code",
   "execution_count": null,
   "id": "df79c1dd-4c5d-490a-aa4e-73788cc409a9",
   "metadata": {},
   "outputs": [],
   "source": [
    "inputs = (torch.rand(3), torch.rand(3)) # arguments for the function\n",
    "print(inputs)\n",
    "torch.autograd.functional.jacobian(exp_adder, inputs)"
   ]
  },
  {
   "cell_type": "code",
   "execution_count": null,
   "id": "83a52a1c-7e64-462c-8d4e-6b8f75d238e4",
   "metadata": {},
   "outputs": [],
   "source": [
    "def do_some_doubling(x):\n",
    "    y = x * 2\n",
    "    while y.data.norm() < 1000:\n",
    "        y = y * 2\n",
    "    return y\n",
    "\n",
    "inputs = torch.randn(3)\n",
    "my_gradients = torch.tensor([0.1, 1.0, 0.0001])\n",
    "torch.autograd.functional.vjp(do_some_doubling, inputs, v=my_gradients)"
   ]
  },
  {
   "cell_type": "markdown",
   "id": "458531af-2f44-4054-95ff-270716a23818",
   "metadata": {},
   "source": [
    "# Building Models in PyTorch"
   ]
  },
  {
   "cell_type": "code",
   "execution_count": 34,
   "id": "0929b2fb-0344-4828-b188-1924ebb65c16",
   "metadata": {},
   "outputs": [
    {
     "name": "stdout",
     "output_type": "stream",
     "text": [
      "The model:\n",
      "TinyModel(\n",
      "  (linear1): Linear(in_features=128, out_features=256, bias=True)\n",
      "  (activation1): ReLU()\n",
      "  (linear2): Linear(in_features=256, out_features=64, bias=True)\n",
      "  (activation2): Tanh()\n",
      "  (linear3): Linear(in_features=64, out_features=10, bias=True)\n",
      "  (softmax): Softmax(dim=1)\n",
      ")\n",
      "\n",
      "\n",
      "Just one layer:\n",
      "Linear(in_features=256, out_features=64, bias=True)\n",
      "\n",
      "\n",
      "Model params:\n",
      "Parameter containing:\n",
      "tensor([[ 0.0748,  0.0327,  0.0583,  ...,  0.0647, -0.0683,  0.0183],\n",
      "        [ 0.0868,  0.0550, -0.0749,  ..., -0.0054,  0.0654, -0.0051],\n",
      "        [-0.0789,  0.0524,  0.0680,  ...,  0.0266,  0.0134, -0.0852],\n",
      "        ...,\n",
      "        [ 0.0792,  0.0504, -0.0587,  ..., -0.0461,  0.0622, -0.0158],\n",
      "        [ 0.0675, -0.0780, -0.0192,  ..., -0.0528, -0.0005, -0.0473],\n",
      "        [-0.0342, -0.0225,  0.0285,  ..., -0.0624, -0.0499, -0.0038]],\n",
      "       requires_grad=True)\n",
      "Parameter containing:\n",
      "tensor([ 0.0781, -0.0583,  0.0067,  0.0140, -0.0712,  0.0702, -0.0421, -0.0106,\n",
      "         0.0439, -0.0632, -0.0705,  0.0877,  0.0430, -0.0007, -0.0724, -0.0557,\n",
      "        -0.0596,  0.0079, -0.0464, -0.0280, -0.0267,  0.0449,  0.0707,  0.0142,\n",
      "        -0.0551,  0.0134,  0.0812, -0.0129, -0.0494,  0.0415,  0.0605, -0.0209,\n",
      "         0.0711,  0.0138, -0.0490, -0.0727, -0.0487,  0.0278,  0.0671, -0.0476,\n",
      "        -0.0338, -0.0725,  0.0613,  0.0235,  0.0818, -0.0566, -0.0597,  0.0593,\n",
      "        -0.0644, -0.0307,  0.0824, -0.0784, -0.0069,  0.0696, -0.0491, -0.0656,\n",
      "         0.0257, -0.0453, -0.0782, -0.0252,  0.0577,  0.0521, -0.0215,  0.0614,\n",
      "        -0.0337, -0.0485, -0.0019,  0.0838, -0.0378, -0.0054,  0.0068,  0.0501,\n",
      "         0.0150,  0.0615,  0.0602, -0.0574, -0.0048,  0.0820,  0.0062, -0.0681,\n",
      "        -0.0519, -0.0638,  0.0056, -0.0148, -0.0617,  0.0548, -0.0735, -0.0396,\n",
      "        -0.0519, -0.0860,  0.0373, -0.0638,  0.0173,  0.0177, -0.0547,  0.0022,\n",
      "        -0.0590, -0.0496,  0.0736, -0.0880, -0.0570, -0.0368, -0.0577, -0.0645,\n",
      "        -0.0728,  0.0451, -0.0661, -0.0590,  0.0785,  0.0161, -0.0394, -0.0690,\n",
      "         0.0015, -0.0252, -0.0295,  0.0361,  0.0767, -0.0521,  0.0201,  0.0545,\n",
      "         0.0021, -0.0819, -0.0635,  0.0329,  0.0111, -0.0792,  0.0132,  0.0526,\n",
      "        -0.0465,  0.0221,  0.0718, -0.0080, -0.0300,  0.0606,  0.0202,  0.0275,\n",
      "         0.0599,  0.0023,  0.0005, -0.0463, -0.0205, -0.0871, -0.0504,  0.0397,\n",
      "        -0.0826, -0.0099,  0.0408, -0.0585, -0.0745, -0.0378, -0.0005,  0.0445,\n",
      "        -0.0212, -0.0386,  0.0349, -0.0643, -0.0440,  0.0318, -0.0859,  0.0577,\n",
      "         0.0230,  0.0504,  0.0872,  0.0728, -0.0132, -0.0290,  0.0797,  0.0534,\n",
      "         0.0122, -0.0103, -0.0770,  0.0560,  0.0600,  0.0863, -0.0093,  0.0400,\n",
      "         0.0211,  0.0795, -0.0376,  0.0594, -0.0514,  0.0124,  0.0673,  0.0135,\n",
      "        -0.0244,  0.0041, -0.0345,  0.0712, -0.0737, -0.0855, -0.0685,  0.0458,\n",
      "        -0.0652,  0.0298,  0.0620,  0.0365,  0.0053, -0.0758, -0.0035, -0.0604,\n",
      "        -0.0361, -0.0092, -0.0251, -0.0439,  0.0006, -0.0465,  0.0574, -0.0197,\n",
      "        -0.0769, -0.0366,  0.0057, -0.0105,  0.0683, -0.0290, -0.0330,  0.0001,\n",
      "        -0.0140, -0.0733, -0.0493, -0.0813,  0.0151, -0.0004, -0.0183,  0.0344,\n",
      "        -0.0344,  0.0616, -0.0201,  0.0848, -0.0165,  0.0467, -0.0092,  0.0611,\n",
      "         0.0235,  0.0288, -0.0876, -0.0248, -0.0171,  0.0867,  0.0149,  0.0781,\n",
      "        -0.0321, -0.0368, -0.0576,  0.0301, -0.0013,  0.0512,  0.0350,  0.0471,\n",
      "        -0.0363,  0.0521, -0.0302, -0.0492, -0.0772,  0.0235,  0.0809,  0.0822],\n",
      "       requires_grad=True)\n",
      "Parameter containing:\n",
      "tensor([[-0.0099,  0.0338, -0.0149,  ..., -0.0614,  0.0496,  0.0372],\n",
      "        [-0.0418,  0.0303, -0.0294,  ...,  0.0404,  0.0209, -0.0068],\n",
      "        [ 0.0126, -0.0376,  0.0243,  ..., -0.0406, -0.0408,  0.0189],\n",
      "        ...,\n",
      "        [-0.0349, -0.0559,  0.0267,  ...,  0.0554, -0.0380,  0.0186],\n",
      "        [-0.0174, -0.0222, -0.0576,  ..., -0.0388,  0.0344,  0.0611],\n",
      "        [ 0.0115, -0.0240, -0.0193,  ..., -0.0504, -0.0433, -0.0525]],\n",
      "       requires_grad=True)\n",
      "Parameter containing:\n",
      "tensor([-0.0476, -0.0205,  0.0407, -0.0515,  0.0580, -0.0602,  0.0106,  0.0336,\n",
      "         0.0288,  0.0452,  0.0413,  0.0099, -0.0441, -0.0404,  0.0541, -0.0079,\n",
      "        -0.0178, -0.0208, -0.0203,  0.0600,  0.0355, -0.0322, -0.0383,  0.0596,\n",
      "        -0.0607,  0.0185, -0.0304,  0.0111, -0.0483, -0.0080,  0.0376, -0.0591,\n",
      "         0.0040,  0.0167,  0.0197, -0.0184,  0.0612,  0.0359,  0.0534, -0.0554,\n",
      "         0.0461,  0.0151,  0.0290, -0.0480, -0.0085,  0.0621,  0.0106,  0.0182,\n",
      "        -0.0346,  0.0053, -0.0373, -0.0020,  0.0012,  0.0160,  0.0402, -0.0056,\n",
      "        -0.0296,  0.0278,  0.0142,  0.0471, -0.0239,  0.0407,  0.0266, -0.0361],\n",
      "       requires_grad=True)\n",
      "Parameter containing:\n",
      "tensor([[-0.0008, -0.0845, -0.0991, -0.0911, -0.0447,  0.0079,  0.0326,  0.1160,\n",
      "          0.0403, -0.0499, -0.1215, -0.0329, -0.0357, -0.1041,  0.1150, -0.0348,\n",
      "          0.0243,  0.0797, -0.0598, -0.1228,  0.1045, -0.0874,  0.0250, -0.0405,\n",
      "          0.0447,  0.0548, -0.0224,  0.0654, -0.0862, -0.0464, -0.1052,  0.1000,\n",
      "         -0.1088,  0.0950, -0.0759, -0.0379,  0.1088, -0.0438, -0.0985, -0.0570,\n",
      "         -0.0610, -0.1090,  0.0271,  0.0999,  0.0957,  0.0641, -0.1114, -0.1056,\n",
      "          0.0644, -0.0045, -0.0003, -0.1216, -0.0281,  0.0545,  0.1075, -0.0559,\n",
      "          0.0850, -0.0253, -0.0308,  0.0698,  0.0166, -0.0644,  0.0763, -0.0444],\n",
      "        [-0.0198,  0.0966,  0.0487, -0.0922, -0.0758, -0.0494, -0.0830, -0.1149,\n",
      "         -0.0607, -0.1047, -0.1060, -0.1232,  0.0757, -0.0900, -0.1244, -0.1159,\n",
      "         -0.0385,  0.0298, -0.0494, -0.0872,  0.1247,  0.1074,  0.0027,  0.0901,\n",
      "          0.0101,  0.1165,  0.0172, -0.0950,  0.0364, -0.0186,  0.0686,  0.1175,\n",
      "          0.0701,  0.0029,  0.0586, -0.0239,  0.1052, -0.0650,  0.0645,  0.0390,\n",
      "          0.0196, -0.1081,  0.0108,  0.0080, -0.0148,  0.1063,  0.0994, -0.0965,\n",
      "          0.0610,  0.0323, -0.1088,  0.0063, -0.0695, -0.1081,  0.0946,  0.0941,\n",
      "         -0.1012, -0.0094, -0.0967,  0.0627,  0.0245,  0.0631, -0.1045, -0.0549],\n",
      "        [ 0.0298, -0.0582,  0.0240,  0.0454, -0.0951,  0.0341, -0.0661,  0.0834,\n",
      "         -0.0003, -0.0878, -0.0925, -0.0731,  0.0249,  0.0076,  0.0866, -0.0255,\n",
      "         -0.0376,  0.0465, -0.0034,  0.0592, -0.0531,  0.1175, -0.1007, -0.0089,\n",
      "         -0.0532,  0.1000,  0.0612,  0.0250,  0.0006,  0.0336,  0.0484,  0.0538,\n",
      "         -0.0985, -0.0300,  0.0127, -0.1120,  0.0517, -0.0095, -0.1018, -0.1056,\n",
      "         -0.0890, -0.0843,  0.0119, -0.0458,  0.0478,  0.0468,  0.0906,  0.0224,\n",
      "          0.1046,  0.0261,  0.0578,  0.1234, -0.0933, -0.0063,  0.1155, -0.0579,\n",
      "          0.0619, -0.0193,  0.1114,  0.0682,  0.1174,  0.1138,  0.0455, -0.0201],\n",
      "        [-0.0842, -0.0360,  0.0607,  0.0365, -0.0192, -0.0138,  0.0279,  0.0286,\n",
      "         -0.0451,  0.0074,  0.0877,  0.0856,  0.0955, -0.0893,  0.0212,  0.0680,\n",
      "         -0.0995,  0.0278, -0.0411, -0.0011,  0.0457, -0.0204,  0.1101,  0.0313,\n",
      "          0.0027, -0.0968,  0.0342, -0.0545, -0.0377,  0.1105, -0.0404,  0.0239,\n",
      "          0.0270,  0.0390, -0.0827, -0.0899,  0.0208,  0.0400,  0.0610,  0.0829,\n",
      "         -0.0505, -0.0552,  0.1199,  0.0081,  0.0294,  0.1020,  0.0181,  0.0170,\n",
      "          0.0139, -0.0435, -0.0268, -0.0965,  0.0628,  0.0135,  0.1179, -0.0700,\n",
      "         -0.1244, -0.0730,  0.0760,  0.0938,  0.0221,  0.0618, -0.1065,  0.0445],\n",
      "        [-0.0664, -0.1219, -0.0734,  0.0901,  0.0851,  0.0394, -0.0048, -0.1248,\n",
      "          0.0489, -0.0367, -0.0133, -0.0879,  0.0950,  0.1156, -0.0656, -0.1010,\n",
      "          0.0028, -0.0221, -0.0781,  0.0770, -0.1114, -0.0311,  0.0748, -0.0464,\n",
      "         -0.0909,  0.0701,  0.0774, -0.0365, -0.1035,  0.1111,  0.0402, -0.0140,\n",
      "         -0.0189,  0.0043,  0.1104, -0.1223,  0.0438,  0.0242, -0.0541, -0.0487,\n",
      "          0.0982,  0.0806,  0.0637, -0.0236, -0.0731,  0.1158,  0.0735, -0.0765,\n",
      "         -0.0527, -0.0808, -0.0582, -0.0191, -0.0647,  0.0191, -0.0375,  0.0873,\n",
      "          0.0040, -0.0440,  0.0058,  0.0763, -0.0293, -0.0797,  0.0889, -0.0519],\n",
      "        [-0.0710, -0.0959,  0.0164,  0.0003, -0.0106, -0.0950, -0.0304,  0.0672,\n",
      "          0.0027, -0.0109, -0.0065,  0.0043,  0.0804,  0.0830, -0.0667, -0.0748,\n",
      "          0.0319, -0.0315,  0.0417,  0.0289, -0.0695, -0.1005,  0.1023,  0.0999,\n",
      "          0.1117,  0.0967,  0.0900, -0.0186, -0.1017,  0.0344,  0.0009, -0.0746,\n",
      "         -0.0030,  0.0450,  0.1192,  0.0847,  0.0651, -0.0184, -0.1198, -0.1148,\n",
      "          0.0937, -0.0147, -0.1165, -0.1076, -0.1091,  0.1150, -0.0352, -0.1147,\n",
      "         -0.0320, -0.0320, -0.0127, -0.1115,  0.0852,  0.0515,  0.0591,  0.0771,\n",
      "          0.1058, -0.0586,  0.1143,  0.0337,  0.0212,  0.0937,  0.0615, -0.0454],\n",
      "        [-0.1206, -0.0567, -0.0770,  0.0329,  0.0432, -0.0373,  0.0651,  0.0841,\n",
      "          0.0916,  0.0549, -0.0918,  0.0628,  0.0103,  0.0050, -0.0134, -0.0921,\n",
      "         -0.0890,  0.0564,  0.0739,  0.0185,  0.0507, -0.0286, -0.0315, -0.0046,\n",
      "          0.0658, -0.0972, -0.0791,  0.1148, -0.0663, -0.0760, -0.0630,  0.0114,\n",
      "          0.0389,  0.0374, -0.0927, -0.0277, -0.0504, -0.0992,  0.1221,  0.0067,\n",
      "         -0.1100,  0.0703,  0.0814,  0.0907,  0.0313,  0.1152, -0.1068,  0.0575,\n",
      "          0.1185, -0.0085, -0.0879,  0.0402,  0.1033,  0.1005,  0.0629, -0.1137,\n",
      "         -0.0985,  0.0110, -0.1040,  0.0758, -0.1102, -0.0027, -0.0321, -0.0882],\n",
      "        [-0.0752, -0.0089, -0.0761,  0.0910,  0.0182, -0.0833,  0.0899,  0.0559,\n",
      "          0.0270, -0.0378, -0.0205, -0.0811, -0.1084,  0.0571,  0.0569, -0.0106,\n",
      "         -0.0696,  0.0050,  0.0624, -0.0733, -0.0995, -0.0397, -0.0120,  0.0365,\n",
      "          0.0313,  0.0486, -0.1204, -0.0984, -0.0409, -0.0522,  0.0048,  0.0879,\n",
      "         -0.0762,  0.0621,  0.0408, -0.1171, -0.1132, -0.0328,  0.0765,  0.0638,\n",
      "         -0.1004, -0.0080, -0.0985, -0.0142, -0.1019, -0.0318,  0.0633,  0.1114,\n",
      "         -0.0013, -0.1052,  0.0771, -0.1075,  0.1130, -0.0838,  0.0494, -0.0143,\n",
      "         -0.0023, -0.0011,  0.0839,  0.0288, -0.0015,  0.1000,  0.0973, -0.0461],\n",
      "        [-0.0356,  0.0975, -0.0381,  0.0405,  0.0099,  0.0867,  0.0169, -0.0228,\n",
      "         -0.0677,  0.1193,  0.1153, -0.0507, -0.0583,  0.0325, -0.0791,  0.0962,\n",
      "          0.1228,  0.0486, -0.1055, -0.0962, -0.0914,  0.0753,  0.1152,  0.0574,\n",
      "         -0.0447,  0.0493,  0.0219, -0.0491,  0.1168, -0.0452, -0.1073,  0.0621,\n",
      "          0.0623,  0.0022,  0.0461, -0.0307,  0.0597, -0.1044,  0.0791, -0.1228,\n",
      "          0.0550, -0.0093, -0.0936, -0.0928, -0.0517,  0.0019,  0.0478, -0.1241,\n",
      "          0.1240,  0.0628,  0.1022, -0.0799,  0.0915, -0.0148,  0.0371,  0.1191,\n",
      "          0.0352,  0.0905,  0.0059, -0.1192,  0.1173,  0.0267,  0.0080,  0.0447],\n",
      "        [-0.0618,  0.0353,  0.0891, -0.0086,  0.0709,  0.1090,  0.0272, -0.0443,\n",
      "         -0.1007,  0.1142,  0.0606,  0.0444, -0.0222, -0.0059, -0.0775,  0.0023,\n",
      "         -0.0653, -0.0431,  0.0989,  0.0903,  0.0530, -0.0863,  0.0822, -0.1227,\n",
      "         -0.0792, -0.0253, -0.0099,  0.1083,  0.0756,  0.0321,  0.0872, -0.0535,\n",
      "          0.0465,  0.0874, -0.1133,  0.1110, -0.0891,  0.0094, -0.0864,  0.0450,\n",
      "          0.0404, -0.1168,  0.0371, -0.1102,  0.0162, -0.1053,  0.0403, -0.0646,\n",
      "         -0.0107,  0.0013, -0.0198, -0.0320, -0.0009, -0.1056, -0.1004, -0.0381,\n",
      "          0.0084, -0.0464, -0.0163,  0.0225, -0.0029, -0.0124,  0.0897,  0.0229]],\n",
      "       requires_grad=True)\n",
      "Parameter containing:\n",
      "tensor([-0.0497,  0.0124,  0.1249,  0.0030,  0.1178,  0.1106,  0.1110, -0.0845,\n",
      "        -0.0486, -0.0757], requires_grad=True)\n",
      "\n",
      "\n",
      "Layer params:\n",
      "Parameter containing:\n",
      "tensor([[-0.0099,  0.0338, -0.0149,  ..., -0.0614,  0.0496,  0.0372],\n",
      "        [-0.0418,  0.0303, -0.0294,  ...,  0.0404,  0.0209, -0.0068],\n",
      "        [ 0.0126, -0.0376,  0.0243,  ..., -0.0406, -0.0408,  0.0189],\n",
      "        ...,\n",
      "        [-0.0349, -0.0559,  0.0267,  ...,  0.0554, -0.0380,  0.0186],\n",
      "        [-0.0174, -0.0222, -0.0576,  ..., -0.0388,  0.0344,  0.0611],\n",
      "        [ 0.0115, -0.0240, -0.0193,  ..., -0.0504, -0.0433, -0.0525]],\n",
      "       requires_grad=True)\n",
      "Parameter containing:\n",
      "tensor([-0.0476, -0.0205,  0.0407, -0.0515,  0.0580, -0.0602,  0.0106,  0.0336,\n",
      "         0.0288,  0.0452,  0.0413,  0.0099, -0.0441, -0.0404,  0.0541, -0.0079,\n",
      "        -0.0178, -0.0208, -0.0203,  0.0600,  0.0355, -0.0322, -0.0383,  0.0596,\n",
      "        -0.0607,  0.0185, -0.0304,  0.0111, -0.0483, -0.0080,  0.0376, -0.0591,\n",
      "         0.0040,  0.0167,  0.0197, -0.0184,  0.0612,  0.0359,  0.0534, -0.0554,\n",
      "         0.0461,  0.0151,  0.0290, -0.0480, -0.0085,  0.0621,  0.0106,  0.0182,\n",
      "        -0.0346,  0.0053, -0.0373, -0.0020,  0.0012,  0.0160,  0.0402, -0.0056,\n",
      "        -0.0296,  0.0278,  0.0142,  0.0471, -0.0239,  0.0407,  0.0266, -0.0361],\n",
      "       requires_grad=True)\n"
     ]
    }
   ],
   "source": [
    "import torch.nn as nn\n",
    "\n",
    "class TinyModel(torch.nn.Module):\n",
    "    \n",
    "    def __init__(self):\n",
    "        super(TinyModel, self).__init__()\n",
    "        self.linear1 = nn.Linear(128, 256)  \n",
    "        self.activation1 = nn.ReLU()\n",
    "        self.linear2 = nn.Linear(256, 64)  \n",
    "        self.activation2 = nn.Tanh()\n",
    "        self.linear3 = nn.Linear(64, 10)    \n",
    "        self.softmax = nn.Softmax(dim=1)\n",
    "    \n",
    "    def forward(self, x):\n",
    "        x = self.linear1(x)\n",
    "        x = self.activation1(x)\n",
    "        x = self.linear2(x)\n",
    "        x = self.activation2(x)\n",
    "        x = self.linear3(x)\n",
    "        x = self.softmax(x)\n",
    "        return x\n",
    "\n",
    "tinymodel = TinyModel()\n",
    "\n",
    "print('The model:')\n",
    "print(tinymodel)\n",
    "\n",
    "print('\\n\\nJust one layer:')\n",
    "print(tinymodel.linear2)\n",
    "\n",
    "print('\\n\\nModel params:')\n",
    "for param in tinymodel.parameters():\n",
    "    print(param)\n",
    "\n",
    "print('\\n\\nLayer params:')\n",
    "for param in tinymodel.linear2.parameters():\n",
    "    print(param)"
   ]
  },
  {
   "cell_type": "code",
   "execution_count": 35,
   "id": "7c8e90a0-17ba-49f7-8772-e3f510642353",
   "metadata": {},
   "outputs": [
    {
     "name": "stdout",
     "output_type": "stream",
     "text": [
      "Input:\n",
      "tensor([[0.7007, 0.6001, 0.9865, 0.2452],\n",
      "        [0.0230, 0.9083, 0.0196, 0.4573]])\n",
      "\n",
      "Weight and Bias Parameters:\n",
      "weight:\n",
      "Parameter containing:\n",
      "tensor([[ 0.2640, -0.4836,  0.2523,  0.4748],\n",
      "        [ 0.3956, -0.4835,  0.0298,  0.1438],\n",
      "        [ 0.1239, -0.4689,  0.3024,  0.2441]], requires_grad=True)\n",
      "bias:\n",
      "Parameter containing:\n",
      "tensor([ 0.0383, -0.4938,  0.3773], requires_grad=True)\n",
      "\n",
      "Output Tensor:\n",
      "tensor([[ 0.2983, -0.4420,  0.5408],\n",
      "        [-0.1729, -0.8575,  0.0718]], grad_fn=<AddmmBackward0>)\n"
     ]
    }
   ],
   "source": [
    "linear_layer = nn.Linear(in_features=4, out_features=3)\n",
    "input_tensor = torch.rand(2, 4)\n",
    "print('Input:')\n",
    "print(input_tensor)\n",
    "\n",
    "print('\\nWeight and Bias Parameters:')\n",
    "for name, param in linear_layer.named_parameters():\n",
    "    print(f'{name}:')\n",
    "    print(param)\n",
    "\n",
    "output_tensor = linear_layer(input_tensor)\n",
    "\n",
    "print('\\nOutput Tensor:')\n",
    "print(output_tensor)"
   ]
  },
  {
   "cell_type": "code",
   "execution_count": 36,
   "id": "632001a1-16e8-4c66-8a20-84cf8389b8dc",
   "metadata": {},
   "outputs": [
    {
     "name": "stdout",
     "output_type": "stream",
     "text": [
      "Tiny model weights saved successfully!\n"
     ]
    }
   ],
   "source": [
    "torch.save(tinymodel.state_dict(), \"LeNet_model_weights.pth\")\n",
    "print(\"Tiny model weights saved successfully!\")\n"
   ]
  },
  {
   "cell_type": "code",
   "execution_count": null,
   "id": "1fa98c3b-3086-4de9-959a-843e3566e59b",
   "metadata": {},
   "outputs": [],
   "source": [
    "import torch.functional as F\n",
    "\n",
    "\n",
    "class LeNet(torch.nn.Module):\n",
    "\n",
    "    def __init__(self):\n",
    "        super(LeNet, self).__init__()\n",
    "        self.conv1 = nn.Conv2d(1, 8, kernel_size=5) \n",
    "        self.conv2 = nn.Conv2d(8, 20, kernel_size=3) \n",
    "        # an affine operation: y = Wx + b\n",
    "        self.fc1 = nn.Linear(20 * 6 * 6, 150)  \n",
    "        self.fc2 = nn.Linear(150, 100)\n",
    "        self.fc3 = nn.Linear(100, 10)\n",
    "\n",
    "    def forward(self, x):\n",
    "        x = F.max_pool2d(F.relu(self.conv1(x)), (2, 2))\n",
    "        x = F.max_pool2d(F.relu(self.conv2(x)), 2)\n",
    "        x = x.view(-1, self.num_flat_features(x))  \n",
    "        x = F.relu(self.fc1(x))\n",
    "        x = F.relu(self.fc2(x))\n",
    "        x = self.fc3(x)  \n",
    "        return x\n",
    "\n",
    "    def num_flat_features(self, x):\n",
    "        size = x.size()[1:]  # all dimensions except the batch dimension\n",
    "        num_features = 1\n",
    "        for s in size:\n",
    "            num_features *= s\n",
    "        return num_features"
   ]
  },
  {
   "cell_type": "code",
   "execution_count": 33,
   "id": "de2f6273-6eca-46ba-8e1f-23fb2a2b0aa2",
   "metadata": {},
   "outputs": [],
   "source": [
    "class LSTMTagger(nn.Module):\n",
    "    def __init__(self, embedding_dim, hidden_dim, vocab_size, tagset_size):\n",
    "        super(LSTMTagger, self).__init__()\n",
    "        self.hidden_dim = hidden_dim\n",
    "\n",
    "        self.word_embeddings = nn.Embedding(vocab_size, embedding_dim)\n",
    "\n",
    "        self.lstm = nn.LSTM(embedding_dim, hidden_dim, batch_first=True)\n",
    "\n",
    "        self.hidden2tag = nn.Linear(hidden_dim, tagset_size)\n",
    "\n",
    "    def forward(self, sentence):\n",
    "        embeds = self.word_embeddings(sentence)\n",
    "        lstm_out, _ = self.lstm(embeds)\n",
    "        tag_space = self.hidden2tag(lstm_out)\n",
    "        tag_scores = F.log_softmax(tag_space, dim=2)\n",
    "        return tag_scores"
   ]
  },
  {
   "cell_type": "code",
   "execution_count": null,
   "id": "33414c27-692b-4032-8e7d-8151ac635e56",
   "metadata": {},
   "outputs": [],
   "source": [
    "my_tensor = torch.rand(1, 8, 8)\n",
    "print(my_tensor)\n",
    "\n",
    "maxpool_layer = torch.nn.MaxPool2d(4, stride=2)\n",
    "print(maxpool_layer(my_tensor))"
   ]
  },
  {
   "cell_type": "code",
   "execution_count": null,
   "id": "dbdfbe66-4bc7-45f0-b83a-02ada4c9091b",
   "metadata": {},
   "outputs": [],
   "source": [
    "my_tensor = torch.rand(1, 6, 6) * 15 + 10  \n",
    "print(my_tensor)\n",
    "\n",
    "print(my_tensor.mean())\n",
    "\n",
    "norm_layer = torch.nn.BatchNorm1d(6)  \n",
    "normed_tensor = norm_layer(my_tensor)\n",
    "print(normed_tensor)\n",
    "\n",
    "print(normed_tensor.mean())"
   ]
  },
  {
   "cell_type": "code",
   "execution_count": null,
   "id": "c1d4b82c-93a5-4dc1-b284-0ad92b026c3c",
   "metadata": {},
   "outputs": [],
   "source": [
    "my_tensor = torch.rand(1, 6, 6)  \n",
    "\n",
    "dropout = torch.nn.Dropout(p=0.2)  \n",
    "print(dropout(my_tensor))\n",
    "print(dropout(my_tensor))"
   ]
  },
  {
   "cell_type": "code",
   "execution_count": 37,
   "id": "298f1362-a344-4e07-b188-acee7999dc1f",
   "metadata": {},
   "outputs": [
    {
     "name": "stdout",
     "output_type": "stream",
     "text": [
      "LeNet model weights saved successfully!\n"
     ]
    }
   ],
   "source": [
    "torch.save(net.state_dict(), \"4_Building_Models_with_PyTorch_model_weights.pth\")\n",
    "print(\"LeNet model weights saved successfully!\")\n"
   ]
  },
  {
   "cell_type": "markdown",
   "id": "94cc6f28-c023-4d76-bcc8-73b3d3856a98",
   "metadata": {},
   "source": [
    "# PyTorch TensorBoard Support"
   ]
  },
  {
   "cell_type": "code",
   "execution_count": null,
   "id": "909a073b-89a8-452a-a8ac-f40f43c5988a",
   "metadata": {},
   "outputs": [],
   "source": [
    "pip install torch torchvision matplotlib tensorboard"
   ]
  },
  {
   "cell_type": "code",
   "execution_count": null,
   "id": "4159edce-a6b1-4d99-81cf-623b3ffd1ca3",
   "metadata": {},
   "outputs": [],
   "source": [
    "# PyTorch model and training necessities\n",
    "import torch\n",
    "import torch.nn as nn\n",
    "import torch.nn.functional as F\n",
    "import torch.optim as optim\n",
    "\n",
    "# Image datasets and image manipulation\n",
    "import torchvision\n",
    "import torchvision.transforms as transforms\n",
    "\n",
    "# Image display\n",
    "import matplotlib.pyplot as plt\n",
    "import numpy as np\n",
    "\n",
    "# PyTorch TensorBoard support\n",
    "from torch.utils.tensorboard import SummaryWriter"
   ]
  },
  {
   "cell_type": "code",
   "execution_count": null,
   "id": "446a87af-d1a7-4d8f-a240-870a7731b272",
   "metadata": {},
   "outputs": [],
   "source": [
    "# Gather datasets and prepare them for consumption\n",
    "transform = transforms.Compose(\n",
    "    [transforms.ToTensor(),\n",
    "    transforms.Normalize((0.4,), (0.4,))])\n",
    "\n",
    "# Store separate training and validations splits in ./data\n",
    "training_set = torchvision.datasets.FashionMNIST('./data',\n",
    "    download=True,\n",
    "    train=True,\n",
    "    transform=transform)\n",
    "validation_set = torchvision.datasets.FashionMNIST('./data',\n",
    "    download=True,\n",
    "    train=False,\n",
    "    transform=transform)\n",
    "\n",
    "training_loader = torch.utils.data.DataLoader(training_set,\n",
    "                                              batch_size=8,\n",
    "                                              shuffle=True,\n",
    "                                              num_workers=4)\n",
    "\n",
    "\n",
    "validation_loader = torch.utils.data.DataLoader(validation_set,\n",
    "                                                batch_size=8,\n",
    "                                                shuffle=False,\n",
    "                                                num_workers=4)\n",
    "\n",
    "# Class labels\n",
    "classes = ('T-shirt/top', 'Trouser', 'Pullover', 'Dress', 'Coat',\n",
    "        'Sandal', 'Shirt', 'Sneaker', 'Bag', 'Ankle Boot')"
   ]
  },
  {
   "cell_type": "code",
   "execution_count": null,
   "id": "81334225-7f42-46d8-a84f-0e3267f7a3a2",
   "metadata": {},
   "outputs": [],
   "source": [
    "# Helper function for inline image display\n",
    "def matplotlib_imshow(img, one_channel=False):\n",
    "    if one_channel:\n",
    "        img = img.mean(dim=0)\n",
    "    img = img * 0.5 + 0.5       # unnormalize\n",
    "    npimg = img.numpy()\n",
    "    if one_channel:\n",
    "        plt.imshow(npimg, cmap=\"Greys\")\n",
    "    else:\n",
    "        plt.imshow(np.transpose(npimg, (1, 2, 0)))"
   ]
  },
  {
   "cell_type": "code",
   "execution_count": null,
   "id": "2f5c8c02-3581-4a1c-9eda-f16dc418869e",
   "metadata": {},
   "outputs": [],
   "source": [
    "# Extract a batch of 4 images\n",
    "dataiter = iter(training_loader)\n",
    "images, labels = next(dataiter)\n",
    "\n",
    "# Create a grid from the images and show them\n",
    "img_grid = torchvision.utils.make_grid(images)  \n",
    "matplotlib_imshow(img_grid, one_channel=True)"
   ]
  },
  {
   "cell_type": "code",
   "execution_count": null,
   "id": "566eadd2-f797-4686-b033-41740829fe75",
   "metadata": {},
   "outputs": [],
   "source": [
    "writer = SummaryWriter('runs/fashion_mnist_exp_v2') \n",
    "\n",
    "writer.add_image('Six Fashion-MNIST Images', img_grid)  \n",
    "writer.flush()\n",
    "\n"
   ]
  },
  {
   "cell_type": "code",
   "execution_count": null,
   "id": "482fbca5-904f-4161-901c-9e23006a8ced",
   "metadata": {},
   "outputs": [],
   "source": [
    "class Net(nn.Module):\n",
    "    def __init__(self):\n",
    "        super(Net, self).__init__()\n",
    "        self.conv1 = nn.Conv2d(1, 8, 3)  \n",
    "        self.pool = nn.MaxPool2d(2, 2)\n",
    "        self.conv2 = nn.Conv2d(8, 20, 3)  \n",
    "        \n",
    "        self.fc1 = nn.Linear(20 * 5 * 5, 150)  \n",
    "        self.fc2 = nn.Linear(150, 100) \n",
    "        self.fc3 = nn.Linear(100, 10)\n",
    "\n",
    "    def forward(self, x):\n",
    "        x = self.pool(F.relu(self.conv1(x)))\n",
    "        x = self.pool(F.relu(self.conv2(x)))\n",
    "        x = x.view(x.size(0), -1)   \n",
    "        x = F.relu(self.fc1(x))\n",
    "        x = F.relu(self.fc2(x))\n",
    "        x = self.fc3(x)\n",
    "        return x\n",
    "    \n",
    "net = Net()\n",
    "criterion = nn.CrossEntropyLoss()\n",
    "optimizer = optim.Adam(net.parameters(), lr=0.0005)  "
   ]
  },
  {
   "cell_type": "code",
   "execution_count": null,
   "id": "7f8e9ddb-0811-4160-afa8-50f265750d51",
   "metadata": {},
   "outputs": [],
   "source": [
    "print(len(validation_loader))\n",
    "for epoch in range(3):  \n",
    "    running_loss = 0.0\n",
    "\n",
    "    for i, data in enumerate(training_loader, 0):\n",
    "        # Basic training loop\n",
    "        inputs, labels = data\n",
    "        optimizer.zero_grad()\n",
    "        outputs = net(inputs)\n",
    "        loss = criterion(outputs, labels)\n",
    "        loss.backward()\n",
    "        optimizer.step()\n",
    "\n",
    "        running_loss += loss.item()\n",
    "        if i % 500 == 499:  \n",
    "            print('Batch {}'.format(i + 1))\n",
    "            running_vloss = 0.0\n",
    "            \n",
    "            net.eval() \n",
    "            with torch.no_grad():  \n",
    "                for j, vdata in enumerate(validation_loader, 0):\n",
    "                    vinputs, vlabels = vdata\n",
    "                    voutputs = net(vinputs)\n",
    "                    vloss = criterion(voutputs, vlabels)\n",
    "                    running_vloss += vloss.item()\n",
    "            \n",
    "            net.train()  \n",
    "            \n",
    "            avg_loss = running_loss / 500  \n",
    "            avg_vloss = running_vloss / len(validation_loader)\n",
    "            \n",
    "            writer.add_scalars('Training vs. Validation Loss',\n",
    "                            {'Training': avg_loss, 'Validation': avg_vloss},\n",
    "                            epoch * len(training_loader) + i)\n",
    "\n",
    "            running_loss = 0.0\n",
    "print('Finished Training')\n",
    "\n",
    "writer.flush()"
   ]
  },
  {
   "cell_type": "code",
   "execution_count": null,
   "id": "09d34d7a-73dc-4b2b-9ddb-80f549c073a2",
   "metadata": {},
   "outputs": [],
   "source": [
    "# Save the model weights\n",
    "torch.save(net.state_dict(), \"5_PyTorch_TensorBoard_Support_model_weights.pth\")\n",
    "print(\"Model weights saved successfully!\")"
   ]
  },
  {
   "cell_type": "code",
   "execution_count": null,
   "id": "4049b359-3559-4edf-ac8a-67a85f8100e1",
   "metadata": {},
   "outputs": [],
   "source": [
    "# Again, grab a single mini-batch of images\n",
    "dataiter = iter(training_loader)\n",
    "images, labels = next(dataiter)\n",
    "\n",
    "# add_graph() will trace the sample input through your model,\n",
    "# and render it as a graph.\n",
    "writer.add_graph(net, images)\n",
    "writer.flush()"
   ]
  },
  {
   "cell_type": "code",
   "execution_count": null,
   "id": "0124d76f-e939-434f-ba23-83b1fc642e57",
   "metadata": {},
   "outputs": [],
   "source": [
    "# Select a random subset of data and corresponding labels\n",
    "def select_n_random(data, labels, n=200):\n",
    "    assert len(data) == len(labels)\n",
    "\n",
    "    perm = torch.randperm(len(data))\n",
    "    return data[perm][:n], labels[perm][:n]\n",
    "\n",
    "# Extract a random subset of data\n",
    "images, labels = select_n_random(training_set.data, training_set.targets)\n",
    "\n",
    "# get the class labels for each image\n",
    "class_labels = [classes[label] for label in labels]\n",
    "\n",
    "# log embeddings\n",
    "features = images.view(-1, 28 * 28)\n",
    "writer.add_embedding(features,\n",
    "                    metadata=class_labels,\n",
    "                    label_img=images.unsqueeze(1))\n",
    "writer.flush()\n",
    "writer.close()"
   ]
  },
  {
   "cell_type": "markdown",
   "id": "0d2ae4cf-84c9-4fc5-b921-5640e39bf0ec",
   "metadata": {},
   "source": [
    "# Training with PyTorch"
   ]
  },
  {
   "cell_type": "code",
   "execution_count": null,
   "id": "73bb579e-2f00-4ecd-8817-d252e16b3c2e",
   "metadata": {},
   "outputs": [],
   "source": [
    "import torch\n",
    "import torchvision\n",
    "import torchvision.transforms as transforms\n",
    "\n",
    "from torch.utils.tensorboard import SummaryWriter\n",
    "from datetime import datetime\n",
    "\n",
    "transform = transforms.Compose([\n",
    "    transforms.ToTensor(),\n",
    "    transforms.Normalize((0.4,), (0.4,))  \n",
    "])\n",
    "\n",
    "training_set = torchvision.datasets.FashionMNIST('./dataset', train=True, transform=transform, download=True)\n",
    "validation_set = torchvision.datasets.FashionMNIST('./dataset', train=False, transform=transform, download=True)\n",
    "\n",
    "training_loader = torch.utils.data.DataLoader(training_set, batch_size=8, shuffle=True, num_workers=4) \n",
    "validation_loader = torch.utils.data.DataLoader(validation_set, batch_size=8, shuffle=False, num_workers=4)\n",
    "\n",
    "classes = ('T-shirt/top', 'Trouser', 'Pullover', 'Dress', 'Coat',\n",
    "           'Sandal', 'Shirt', 'Sneaker', 'Bag', 'Ankle Boot')\n",
    "\n",
    "print('Training set has {} instances'.format(len(training_set)))\n",
    "print('Validation set has {} instances'.format(len(validation_set)))"
   ]
  },
  {
   "cell_type": "code",
   "execution_count": null,
   "id": "d5764168-a063-463b-ba8b-c49a7c8e810f",
   "metadata": {},
   "outputs": [],
   "source": [
    "import matplotlib.pyplot as plt\n",
    "import numpy as np\n",
    "\n",
    "def matplotlib_imshow(img, one_channel=False):\n",
    "    if one_channel:\n",
    "        img = img.mean(dim=0)\n",
    "    img = img * 0.5 + 0.5  \n",
    "    \n",
    "    npimg = img.numpy()\n",
    "    \n",
    "    if one_channel:\n",
    "        plt.imshow(npimg, cmap=\"inferno\")  \n",
    "    else:\n",
    "        plt.imshow(np.transpose(npimg, (1, 2, 0)))\n",
    "\n",
    "dataiter = iter(training_loader)\n",
    "images, labels = next(dataiter)  \n",
    "\n",
    "img_grid = torchvision.utils.make_grid(images, nrow=4)  \n",
    "matplotlib_imshow(img_grid, one_channel=False)  \n",
    "print('  '.join(classes[labels[j]] for j in range(len(labels))))  "
   ]
  },
  {
   "cell_type": "code",
   "execution_count": null,
   "id": "04df31c0-0b45-44b1-97bd-2643ae734c6b",
   "metadata": {},
   "outputs": [],
   "source": [
    "import torch.nn as nn\n",
    "import torch.nn.functional as F\n",
    "\n",
    "class GarmentClassifier(nn.Module):\n",
    "    def __init__(self):\n",
    "        super(GarmentClassifier, self).__init__()\n",
    "        self.conv1 = nn.Conv2d(1, 8, 3)  \n",
    "        self.pool = nn.MaxPool2d(2, 2)\n",
    "        self.conv2 = nn.Conv2d(8, 20, 3)  \n",
    "        self.fc1 = nn.Linear(20 * 5 * 5, 150)  \n",
    "        self.fc2 = nn.Linear(150, 100) \n",
    "        self.fc3 = nn.Linear(100, 10)  \n",
    "\n",
    "    def forward(self, x):\n",
    "        x = self.pool(F.relu(self.conv1(x)))  \n",
    "        x = self.pool(F.relu(self.conv2(x)))  \n",
    "\n",
    "        x = x.view(x.size(0), -1)  \n",
    "\n",
    "        x = F.relu(self.fc1(x))\n",
    "        x = F.relu(self.fc2(x))\n",
    "        x = self.fc3(x)\n",
    "        return x\n",
    "    \n",
    "\n",
    "model = GarmentClassifier()\n"
   ]
  },
  {
   "cell_type": "code",
   "execution_count": null,
   "id": "7240bb8f-ae22-4e6d-8c4b-6e7258ec73a7",
   "metadata": {},
   "outputs": [],
   "source": [
    "loss_fn = torch.nn.CrossEntropyLoss()\n",
    "\n",
    "dummy_outputs = torch.rand(8, 10)  \n",
    "dummy_labels = torch.tensor([2, 7, 1, 5, 3, 8, 6, 0])  \n",
    "\n",
    "print(dummy_outputs)\n",
    "print(dummy_labels)\n",
    "\n",
    "loss = loss_fn(dummy_outputs, dummy_labels)\n",
    "print('Total loss for this batch: {:.4f}'.format(loss.item())) "
   ]
  },
  {
   "cell_type": "code",
   "execution_count": null,
   "id": "5becaa69-7d12-4521-8d08-1a041d3ba2d1",
   "metadata": {},
   "outputs": [],
   "source": [
    "optimizer = torch.optim.Adam(model.parameters(), lr=0.0005, betas=(0.9, 0.999))  # Changed optimizer from SGD to Adam with modified learning rate\n"
   ]
  },
  {
   "cell_type": "code",
   "execution_count": null,
   "id": "62c40f96-e03f-4395-8cfb-e361c32a0fd2",
   "metadata": {},
   "outputs": [],
   "source": [
    "def train_one_epoch(epoch_index, tb_writer):\n",
    "    running_loss = 0.0\n",
    "    last_loss = 0.0\n",
    "    \n",
    "    for i, data in enumerate(training_loader):\n",
    "        inputs, labels = data\n",
    "\n",
    "        optimizer.zero_grad()\n",
    "\n",
    "        inputs, labels = inputs.to(device), labels.to(device)  \n",
    "\n",
    "        outputs = model(inputs)\n",
    "\n",
    "        loss = loss_fn(outputs, labels)\n",
    "        loss.backward()\n",
    "\n",
    "        optimizer.step()\n",
    "\n",
    "        running_loss += loss.item()\n",
    "        if i % 500 == 499:\n",
    "            last_loss = running_loss / 500  # Loss per batch\n",
    "            print(f'  batch {i + 1} loss: {last_loss:.4f}')  # Formatted loss output\n",
    "            tb_x = epoch_index * len(training_loader) + i + 1\n",
    "            tb_writer.add_scalar('Loss/train', last_loss, tb_x)\n",
    "            running_loss = 0.0\n",
    "            \n",
    "    return last_loss\n"
   ]
  },
  {
   "cell_type": "code",
   "execution_count": null,
   "id": "bf28335d-1608-49f1-a618-f1a0251fc2f5",
   "metadata": {},
   "outputs": [],
   "source": [
    "# Save the model weights\n",
    "torch.save(model.state_dict(), \"6_Training_with_PyTorch_model_weights.pth\")\n",
    "print(\"Model weights saved successfully!\")"
   ]
  },
  {
   "cell_type": "code",
   "execution_count": null,
   "id": "ef0026e5-4c91-437b-87be-2d65e0ab0749",
   "metadata": {},
   "outputs": [],
   "source": [
    "timestamp = datetime.now().strftime('%Y-%m-%d_%H-%M-%S')  \n",
    "writer = SummaryWriter(f'runs/fashion_trainer_{timestamp}')  \n",
    "epoch_number = 0"
   ]
  },
  {
   "cell_type": "code",
   "execution_count": null,
   "id": "1799e69a-106f-4385-881e-5dae54524db9",
   "metadata": {},
   "outputs": [],
   "source": [
    "EPOCHS = 10  \n",
    "\n",
    "best_vloss = float('inf')  \n",
    "\n",
    "for epoch in range(EPOCHS):\n",
    "    print(f'EPOCH {epoch_number + 1}:')  \n",
    "    \n",
    "    model.train()\n",
    "    avg_loss = train_one_epoch(epoch_number, writer)\n",
    "    \n",
    "    model.eval()\n",
    "    \n",
    "    running_vloss = 0.0\n",
    "    with torch.no_grad():  \n",
    "        for i, vdata in enumerate(validation_loader):\n",
    "            vinputs, vlabels = vdata\n",
    "            vinputs, vlabels = vinputs.to(device), vlabels.to(device)  \n",
    "            voutputs = model(vinputs)\n",
    "            vloss = loss_fn(voutputs, vlabels)\n",
    "            running_vloss += vloss.item()  \n",
    "    \n",
    "    avg_vloss = running_vloss / (i + 1)\n",
    "    print(f'LOSS train: {avg_loss:.4f} | valid: {avg_vloss:.4f}')  \n",
    "    writer.add_scalars('Training vs. Validation Loss',\n",
    "                       {'Training': avg_loss, 'Validation': avg_vloss},\n",
    "                       epoch_number + 1)\n",
    "    writer.flush()\n",
    "    \n",
    "    if avg_vloss < best_vloss:\n",
    "        best_vloss = avg_vloss\n",
    "        model_path = f'model_{timestamp}_{epoch_number}.pth'  \n",
    "        torch.save(model.state_dict(), model_path)\n",
    "    \n",
    "    epoch_number += 1\n"
   ]
  },
  {
   "cell_type": "code",
   "execution_count": null,
   "id": "2d9c424f-38d3-4126-9890-1f29946fded8",
   "metadata": {},
   "outputs": [],
   "source": []
  },
  {
   "cell_type": "code",
   "execution_count": null,
   "id": "7aefef6a-9849-48ed-9ea5-fc5e61bfd7fb",
   "metadata": {},
   "outputs": [],
   "source": []
  },
  {
   "cell_type": "code",
   "execution_count": null,
   "id": "b3635f4b-2023-4c8b-bc44-b835bdbb0fc9",
   "metadata": {},
   "outputs": [],
   "source": []
  }
 ],
 "metadata": {
  "kernelspec": {
   "display_name": "Python 3 (ipykernel)",
   "language": "python",
   "name": "python3"
  },
  "language_info": {
   "codemirror_mode": {
    "name": "ipython",
    "version": 3
   },
   "file_extension": ".py",
   "mimetype": "text/x-python",
   "name": "python",
   "nbconvert_exporter": "python",
   "pygments_lexer": "ipython3",
   "version": "3.12.8"
  }
 },
 "nbformat": 4,
 "nbformat_minor": 5
}
